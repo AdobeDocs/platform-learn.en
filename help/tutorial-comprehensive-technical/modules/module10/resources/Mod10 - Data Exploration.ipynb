{
 "cells": [
  {
   "cell_type": "markdown",
   "metadata": {},
   "source": [
    "# This is a Data Exploration Notebook"
   ]
  },
  {
   "cell_type": "markdown",
   "metadata": {},
   "source": [
    "### Import libraries for your data exploration"
   ]
  },
  {
   "cell_type": "code",
   "execution_count": 1,
   "metadata": {},
   "outputs": [],
   "source": [
    "import warnings\n",
    "warnings.filterwarnings('ignore')\n",
    "from subprocess import check_output\n",
    "\n",
    "import logging\n",
    "logger = logging.getLogger()\n",
    "logger.setLevel(logging.CRITICAL)\n",
    "\n",
    "import seaborn as sns\n",
    "from numpy import median\n",
    "import matplotlib.pyplot as plt\n",
    "%matplotlib inline"
   ]
  },
  {
   "cell_type": "code",
   "execution_count": 2,
   "metadata": {},
   "outputs": [
    {
     "data": {
      "text/html": [
       "<div>\n",
       "<style scoped>\n",
       "    .dataframe tbody tr th:only-of-type {\n",
       "        vertical-align: middle;\n",
       "    }\n",
       "\n",
       "    .dataframe tbody tr th {\n",
       "        vertical-align: top;\n",
       "    }\n",
       "\n",
       "    .dataframe thead th {\n",
       "        text-align: right;\n",
       "    }\n",
       "</style>\n",
       "<table border=\"1\" class=\"dataframe\">\n",
       "  <thead>\n",
       "    <tr style=\"text-align: right;\">\n",
       "      <th></th>\n",
       "      <th>--aepTenantId--.acctnumber</th>\n",
       "      <th>--aepTenantId--.prodcategory</th>\n",
       "      <th>--aepTenantId--.qty</th>\n",
       "      <th>--aepTenantId--.salesamount</th>\n",
       "      <th>--aepTenantId--.pricemethod</th>\n",
       "      <th>timestamp</th>\n",
       "    </tr>\n",
       "  </thead>\n",
       "  <tbody>\n",
       "    <tr>\n",
       "      <th>0</th>\n",
       "      <td>C1030752</td>\n",
       "      <td>Baby Food</td>\n",
       "      <td>1</td>\n",
       "      <td>10</td>\n",
       "      <td>Discount</td>\n",
       "      <td>2018-09-13T00:00:00</td>\n",
       "    </tr>\n",
       "    <tr>\n",
       "      <th>1</th>\n",
       "      <td>C1030752</td>\n",
       "      <td>Baby Food</td>\n",
       "      <td>1</td>\n",
       "      <td>16</td>\n",
       "      <td>Discount</td>\n",
       "      <td>2018-09-13T00:00:00</td>\n",
       "    </tr>\n",
       "    <tr>\n",
       "      <th>2</th>\n",
       "      <td>C1030752</td>\n",
       "      <td>Cheese</td>\n",
       "      <td>2</td>\n",
       "      <td>11</td>\n",
       "      <td>Discount</td>\n",
       "      <td>2018-09-13T00:00:00</td>\n",
       "    </tr>\n",
       "    <tr>\n",
       "      <th>3</th>\n",
       "      <td>C1030752</td>\n",
       "      <td>Baby Food</td>\n",
       "      <td>1</td>\n",
       "      <td>9</td>\n",
       "      <td>Discount</td>\n",
       "      <td>2018-09-13T00:00:00</td>\n",
       "    </tr>\n",
       "    <tr>\n",
       "      <th>4</th>\n",
       "      <td>C1030752</td>\n",
       "      <td>Baby Food</td>\n",
       "      <td>1</td>\n",
       "      <td>14</td>\n",
       "      <td>Discount</td>\n",
       "      <td>2018-09-13T00:00:00</td>\n",
       "    </tr>\n",
       "  </tbody>\n",
       "</table>\n",
       "</div>"
      ],
      "text/plain": [
       "  --aepTenantId--.acctnumber --aepTenantId--.prodcategory  \\\n",
       "0                       C1030752                        Baby Food   \n",
       "1                       C1030752                        Baby Food   \n",
       "2                       C1030752                           Cheese   \n",
       "3                       C1030752                        Baby Food   \n",
       "4                       C1030752                        Baby Food   \n",
       "\n",
       "   --aepTenantId--.qty  --aepTenantId--.salesamount  \\\n",
       "0                        1                               10   \n",
       "1                        1                               16   \n",
       "2                        2                               11   \n",
       "3                        1                                9   \n",
       "4                        1                               14   \n",
       "\n",
       "  --aepTenantId--.pricemethod            timestamp  \n",
       "0                        Discount  2018-09-13T00:00:00  \n",
       "1                        Discount  2018-09-13T00:00:00  \n",
       "2                        Discount  2018-09-13T00:00:00  \n",
       "3                        Discount  2018-09-13T00:00:00  \n",
       "4                        Discount  2018-09-13T00:00:00  "
      ]
     },
     "execution_count": 2,
     "metadata": {},
     "output_type": "execute_result"
    }
   ],
   "source": [
    "from platform_sdk.dataset_reader import DatasetReader\n",
    "from datetime import date\n",
    "dataset_reader = DatasetReader(PLATFORM_SDK_CLIENT_CONTEXT, dataset_id=\"5dd2ee272a371e18a8fa7ebd\")\n",
    "df0 = dataset_reader.limit(200000).read()\n",
    "df0.head()"
   ]
  },
  {
   "cell_type": "markdown",
   "metadata": {},
   "source": [
    "### Check the shape of the data - number of records and number of columns"
   ]
  },
  {
   "cell_type": "code",
   "execution_count": 3,
   "metadata": {},
   "outputs": [
    {
     "data": {
      "text/plain": [
       "(200000, 6)"
      ]
     },
     "execution_count": 3,
     "metadata": {},
     "output_type": "execute_result"
    }
   ],
   "source": [
    "df0.shape"
   ]
  },
  {
   "cell_type": "markdown",
   "metadata": {},
   "source": [
    "### Check columns of your data"
   ]
  },
  {
   "cell_type": "code",
   "execution_count": 4,
   "metadata": {},
   "outputs": [
    {
     "data": {
      "text/plain": [
       "Index(['--aepTenantId--.acctnumber', '--aepTenantId--.prodcategory',\n",
       "       '--aepTenantId--.qty', '--aepTenantId--.salesamount',\n",
       "       '--aepTenantId--.pricemethod', 'timestamp'],\n",
       "      dtype='object')"
      ]
     },
     "execution_count": 4,
     "metadata": {},
     "output_type": "execute_result"
    }
   ],
   "source": [
    "df0.columns"
   ]
  },
  {
   "cell_type": "code",
   "execution_count": 5,
   "metadata": {},
   "outputs": [
    {
     "data": {
      "text/plain": [
       "--aepTenantId--.acctnumber      object\n",
       "--aepTenantId--.prodcategory    object\n",
       "--aepTenantId--.qty              int64\n",
       "--aepTenantId--.salesamount      int64\n",
       "--aepTenantId--.pricemethod     object\n",
       "timestamp                           object\n",
       "dtype: object"
      ]
     },
     "execution_count": 5,
     "metadata": {},
     "output_type": "execute_result"
    }
   ],
   "source": [
    "df0.dtypes"
   ]
  },
  {
   "cell_type": "markdown",
   "metadata": {},
   "source": [
    "### Summary Statistics"
   ]
  },
  {
   "cell_type": "code",
   "execution_count": 6,
   "metadata": {},
   "outputs": [
    {
     "data": {
      "text/html": [
       "<div>\n",
       "<style scoped>\n",
       "    .dataframe tbody tr th:only-of-type {\n",
       "        vertical-align: middle;\n",
       "    }\n",
       "\n",
       "    .dataframe tbody tr th {\n",
       "        vertical-align: top;\n",
       "    }\n",
       "\n",
       "    .dataframe thead th {\n",
       "        text-align: right;\n",
       "    }\n",
       "</style>\n",
       "<table border=\"1\" class=\"dataframe\">\n",
       "  <thead>\n",
       "    <tr style=\"text-align: right;\">\n",
       "      <th></th>\n",
       "      <th>--aepTenantId--.qty</th>\n",
       "      <th>--aepTenantId--.salesamount</th>\n",
       "    </tr>\n",
       "  </thead>\n",
       "  <tbody>\n",
       "    <tr>\n",
       "      <th>count</th>\n",
       "      <td>200000.000000</td>\n",
       "      <td>200000.00000</td>\n",
       "    </tr>\n",
       "    <tr>\n",
       "      <th>mean</th>\n",
       "      <td>2.362015</td>\n",
       "      <td>38.51036</td>\n",
       "    </tr>\n",
       "    <tr>\n",
       "      <th>std</th>\n",
       "      <td>13.131769</td>\n",
       "      <td>124.91911</td>\n",
       "    </tr>\n",
       "    <tr>\n",
       "      <th>min</th>\n",
       "      <td>-110.000000</td>\n",
       "      <td>-2307.00000</td>\n",
       "    </tr>\n",
       "    <tr>\n",
       "      <th>25%</th>\n",
       "      <td>1.000000</td>\n",
       "      <td>7.00000</td>\n",
       "    </tr>\n",
       "    <tr>\n",
       "      <th>50%</th>\n",
       "      <td>1.000000</td>\n",
       "      <td>16.00000</td>\n",
       "    </tr>\n",
       "    <tr>\n",
       "      <th>75%</th>\n",
       "      <td>2.000000</td>\n",
       "      <td>37.00000</td>\n",
       "    </tr>\n",
       "    <tr>\n",
       "      <th>max</th>\n",
       "      <td>3000.000000</td>\n",
       "      <td>14022.00000</td>\n",
       "    </tr>\n",
       "  </tbody>\n",
       "</table>\n",
       "</div>"
      ],
      "text/plain": [
       "       --aepTenantId--.qty  --aepTenantId--.salesamount\n",
       "count            200000.000000                     200000.00000\n",
       "mean                  2.362015                         38.51036\n",
       "std                  13.131769                        124.91911\n",
       "min                -110.000000                      -2307.00000\n",
       "25%                   1.000000                          7.00000\n",
       "50%                   1.000000                         16.00000\n",
       "75%                   2.000000                         37.00000\n",
       "max                3000.000000                      14022.00000"
      ]
     },
     "execution_count": 6,
     "metadata": {},
     "output_type": "execute_result"
    }
   ],
   "source": [
    "df0.describe()"
   ]
  },
  {
   "cell_type": "markdown",
   "metadata": {},
   "source": [
    "### Unique accounts"
   ]
  },
  {
   "cell_type": "code",
   "execution_count": 7,
   "metadata": {},
   "outputs": [
    {
     "data": {
      "text/plain": [
       "714"
      ]
     },
     "execution_count": 7,
     "metadata": {},
     "output_type": "execute_result"
    }
   ],
   "source": [
    "df0['--aepTenantId--.acctnumber'].nunique()"
   ]
  },
  {
   "cell_type": "markdown",
   "metadata": {},
   "source": [
    "### Lets look at some visualizations"
   ]
  },
  {
   "cell_type": "markdown",
   "metadata": {},
   "source": [
    "## Number of Orders across Product Category"
   ]
  },
  {
   "cell_type": "code",
   "execution_count": 8,
   "metadata": {},
   "outputs": [
    {
     "data": {
      "text/plain": [
       "<matplotlib.axes._subplots.AxesSubplot at 0x7ff486405e80>"
      ]
     },
     "execution_count": 8,
     "metadata": {},
     "output_type": "execute_result"
    },
    {
     "data": {
      "image/png": "[encoded data removed]",
      "text/plain": [
       "<Figure size 432x288 with 1 Axes>"
      ]
     },
     "metadata": {
      "needs_background": "light"
     },
     "output_type": "display_data"
    }
   ],
   "source": [
    "df0['--aepTenantId--.prodcategory'].value_counts()[:10].plot(kind='bar')"
   ]
  },
  {
   "cell_type": "markdown",
   "metadata": {},
   "source": [
    "## Number of Orders across Price Method"
   ]
  },
  {
   "cell_type": "code",
   "execution_count": 9,
   "metadata": {},
   "outputs": [
    {
     "data": {
      "text/plain": [
       "<matplotlib.axes._subplots.AxesSubplot at 0x7ff48a0fa6a0>"
      ]
     },
     "execution_count": 9,
     "metadata": {},
     "output_type": "execute_result"
    },
    {
     "data": {
      "image/png": "[encoded data removed]",
      "text/plain": [
       "<Figure size 432x288 with 1 Axes>"
      ]
     },
     "metadata": {
      "needs_background": "light"
     },
     "output_type": "display_data"
    }
   ],
   "source": [
    "df0['--aepTenantId--.pricemethod'].value_counts()[:10].plot(kind='bar')"
   ]
  },
  {
   "cell_type": "markdown",
   "metadata": {},
   "source": [
    "## Timeperiod split Criteria"
   ]
  },
  {
   "cell_type": "code",
   "execution_count": 10,
   "metadata": {},
   "outputs": [],
   "source": [
    "df0['timestamp'] = df0['timestamp'].astype('datetime64[ns]')\n",
    "df0['Invoice_Month'] = df0['timestamp'].dt.month"
   ]
  },
  {
   "cell_type": "code",
   "execution_count": 11,
   "metadata": {},
   "outputs": [
    {
     "data": {
      "text/plain": [
       "9     29822\n",
       "10    17595\n",
       "1     17484\n",
       "8     15924\n",
       "4     15679\n",
       "11    15574\n",
       "5     15552\n",
       "3     15515\n",
       "2     15002\n",
       "7     14337\n",
       "6     14181\n",
       "12    13335\n",
       "Name: Invoice_Month, dtype: int64"
      ]
     },
     "execution_count": 11,
     "metadata": {},
     "output_type": "execute_result"
    }
   ],
   "source": [
    "df0['Invoice_Month'].value_counts()"
   ]
  },
  {
   "cell_type": "code",
   "execution_count": 12,
   "metadata": {},
   "outputs": [],
   "source": [
    "df0.loc[(df0['Invoice_Month'] <= 8) ,'Timeperiod'] = '1'\n",
    "df0.loc[(df0['Invoice_Month'] > 8) ,'Timeperiod'] = '2'"
   ]
  },
  {
   "cell_type": "code",
   "execution_count": 13,
   "metadata": {},
   "outputs": [
    {
     "data": {
      "text/plain": [
       "1    123674\n",
       "2     76326\n",
       "Name: Timeperiod, dtype: int64"
      ]
     },
     "execution_count": 13,
     "metadata": {},
     "output_type": "execute_result"
    }
   ],
   "source": [
    "df0['Timeperiod'].value_counts()"
   ]
  },
  {
   "cell_type": "markdown",
   "metadata": {},
   "source": [
    "## Orders across timeperiods"
   ]
  },
  {
   "cell_type": "code",
   "execution_count": 14,
   "metadata": {},
   "outputs": [
    {
     "name": "stdout",
     "output_type": "stream",
     "text": [
      "Drop from T1 to T2 : 38.284522211620875 %\n"
     ]
    },
    {
     "data": {
      "text/plain": [
       "<seaborn.axisgrid.FacetGrid at 0x7ff489fd8b38>"
      ]
     },
     "execution_count": 14,
     "metadata": {},
     "output_type": "execute_result"
    },
    {
     "data": {
      "image/png": "[encoded data removed]",
      "text/plain": [
       "<Figure size 792x417.6 with 1 Axes>"
      ]
     },
     "metadata": {
      "needs_background": "light"
     },
     "output_type": "display_data"
    }
   ],
   "source": [
    "print ('Drop from T1 to T2 : ' + str((100 - float(100*df0[df0['Timeperiod']=='2']['--aepTenantId--.acctnumber'].count()/df0[df0['Timeperiod']=='1']['--aepTenantId--.acctnumber'].count()))) + ' %')\n",
    "\n",
    "sns.catplot(x=\"Timeperiod\", kind=\"count\", palette=\"ch:.25\", height=5.8, aspect=11/5.8, data=df0)\n"
   ]
  },
  {
   "cell_type": "code",
   "execution_count": 15,
   "metadata": {},
   "outputs": [
    {
     "name": "stdout",
     "output_type": "stream",
     "text": [
      "Revenue Drop from T1 to T2 : 38.963757566405924 %\n"
     ]
    },
    {
     "data": {
      "image/png": "[encoded data removed]",
      "text/plain": [
       "<Figure size 792x504 with 1 Axes>"
      ]
     },
     "metadata": {
      "needs_background": "light"
     },
     "output_type": "display_data"
    }
   ],
   "source": [
    "print ('Revenue Drop from T1 to T2 : ' + str((100 - float(100*df0[df0['Timeperiod']=='2']['--aepTenantId--.salesamount'].sum()/df0[df0['Timeperiod']=='1']['--aepTenantId--.salesamount'].sum()))) + ' %')\n",
    "fig = plt.gcf()\n",
    "fig.set_size_inches( 11, 7)\n",
    "ax = sns.barplot(x=\"Timeperiod\", y=\"--aepTenantId--.salesamount\", estimator=sum, data=df0)"
   ]
  },
  {
   "cell_type": "code",
   "execution_count": null,
   "metadata": {},
   "outputs": [],
   "source": []
  }
 ],
 "metadata": {
  "kernelspec": {
   "display_name": "Python 3",
   "language": "python",
   "name": "python3"
  },
  "language_info": {
   "codemirror_mode": {
    "name": "ipython",
    "version": 3
   },
   "file_extension": ".py",
   "mimetype": "text/x-python",
   "name": "python",
   "nbconvert_exporter": "python",
   "pygments_lexer": "ipython3",
   "version": "3.6.7"
  }
 },
 "nbformat": 4,
 "nbformat_minor": 4
}
