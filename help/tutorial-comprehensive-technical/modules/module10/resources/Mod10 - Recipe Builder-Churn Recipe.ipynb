{
 "cells": [
  {
   "cell_type": "markdown",
   "metadata": {},
   "source": [
    "## Recipe Builder Actions Overview\n",
    "\n",
    "### Saving a File Cell\n",
    "If you wish to save the contents of a cell, simply run it.  The `%%writefile` command at the top of the cell will write the contents of the cell to the file named at the top of the cell. You should run the cells manually when applicable. However, **pressing any of the actions at the top will automatically run all file cells relevant to the action**.\n",
    "\n",
    "### Training and Scoring\n",
    "Press the associated buttons at the top in order to run training or scoring. The training output will be shown below the `evaluator.py` cell and scoring output will be shown below the `datasaver.py` cell. You must run training at least once before you can run scoring. You may delete the output cell(s). Running training the first time or after changing `requirements.txt` will be slower since the dependencies for the recipe need to be installed, but subsequent runs will be significantly faster. If you wish to see the hidden output add `debug` to the end of the output cell and re-run it.\n",
    "\n",
    "### Creating the Recipe\n",
    "When you are done editing the recipe and satisfied with the training/scoring output, you can create a recipe from the notebook by pressing `Create Recipe`. You must run scoring at least once before you can create the recipe. After pressing it, you will see a progress bar showing how much time is left for the build to finish. If the recipe creation is successful the progress bar will be replaced by an external link that you can click to navigate to the created recipe.\n",
    "\n",
    "\n",
    "## Caution!\n",
    "* **Do not delete any of the file cells**\n",
    "* **Do not edit the `%%writefile` line at the top of the file cells**\n",
    "\n",
    "---"
   ]
  },
  {
   "cell_type": "markdown",
   "metadata": {},
   "source": [
    "#### **Requirements File** (Optional)\n",
    "Add additional libraries you wish to use in the recipe to the cell below. You can specify the version number if necessary. The file cell below is a **commented out example**."
   ]
  },
  {
   "cell_type": "code",
   "execution_count": 1,
   "metadata": {
    "id": "requirements.txt",
    "tags": [
     "requirements.txt"
    ]
   },
   "outputs": [
    {
     "name": "stdout",
     "output_type": "stream",
     "text": [
      "Overwriting /home/asruser/my-workspace/.recipes/recipe-kgur_YT7/requirements.txt\n"
     ]
    }
   ],
   "source": [
    "# pandas=0.22.0\n",
    "# numpy"
   ]
  },
  {
   "cell_type": "markdown",
   "metadata": {},
   "source": [
    "Search here for additional libraries https://anaconda.org/. This is the list of main **libraries already in use**:\n",
    "`python=3.5.2` `scikit-learn` `pandas` `numpy` `data_access_sdk_python`\n",
    "**Warning: libraries or specific versions you add may be incompatible with the above libraries**."
   ]
  },
  {
   "cell_type": "markdown",
   "metadata": {},
   "source": [
    "---"
   ]
  },
  {
   "cell_type": "markdown",
   "metadata": {},
   "source": [
    "#### **Configuration Files**\n",
    "List any hyperparameters you wish to use. Specify the dataset(s) and schema(s) that are needed for training/scoring. To find the dataset ids go to the **Data tab** in Adobe Experience Platform or view the **Datasets** folder in the **Notebooks Data tab** on the left. You can also find schema id in the **Notebooks Data tab** under the **Schemas** folder. Each configuration will only be used for its corresponding action. `ACP_DSW_TRAINING_XDM_SCHEMA` and `ACP_DSW_SCORING_RESULTS_XDM_SCHEMA` will only be used after the recipe has been created."
   ]
  },
  {
   "cell_type": "markdown",
   "metadata": {},
   "source": [
    "##### Training Configuration"
   ]
  },
  {
   "cell_type": "code",
   "execution_count": 2,
   "metadata": {
    "id": "training.conf",
    "tags": [
     "training.conf"
    ]
   },
   "outputs": [
    {
     "name": "stdout",
     "output_type": "stream",
     "text": [
      "Overwriting /home/asruser/my-workspace/.recipes/recipe-kgur_YT7/training.conf\n"
     ]
    }
   ],
   "source": [
    "{\n",
    "   \"trainingDataSetId\": \"5dd2ee272a371e18a8fa7ebd\",\n",
    "   \"ACP_DSW_TRAINING_XDM_SCHEMA\": \"2Fd2ed6f8ae2dab35ec660cf998383a79d\",\n",
    "   \"learning_rate\": \"0.1\",\n",
    "   \"n_estimators\": \"100\",\n",
    "   \"max_depth\": \"3\"\n",
    "}"
   ]
  },
  {
   "cell_type": "markdown",
   "metadata": {},
   "source": [
    "##### Scoring Configuration"
   ]
  },
  {
   "cell_type": "code",
   "execution_count": 3,
   "metadata": {
    "id": "scoring.conf",
    "tags": [
     "scoring.conf"
    ]
   },
   "outputs": [
    {
     "name": "stdout",
     "output_type": "stream",
     "text": [
      "Overwriting /home/asruser/my-workspace/.recipes/recipe-kgur_YT7/scoring.conf\n"
     ]
    }
   ],
   "source": [
    "{\n",
    "   \"scoringDataSetId\": \"5dd2ee272a371e18a8fa7ebd\",\n",
    "   \"scoringResultsDataSetId\": \"5dd320d152d57618b787e38a\",\n",
    "   \"ACP_DSW_SCORING_RESULTS_XDM_SCHEMA\": \"2Fd2ed6f8ae2dab35ec660cf998383a79d\"\n",
    "}"
   ]
  },
  {
   "cell_type": "markdown",
   "metadata": {},
   "source": [
    "**The following configuration parameters are automatically set for you when you train/score:** \n",
    "`ML_FRAMEWORK_IMS_USER_CLIENT_ID` `ML_FRAMEWORK_IMS_TOKEN` `ML_FRAMEWORK_IMS_ML_TOKEN` `ML_FRAMEWORK_IMS_TENANT_ID`"
   ]
  },
  {
   "cell_type": "markdown",
   "metadata": {},
   "source": [
    "---"
   ]
  },
  {
   "cell_type": "markdown",
   "metadata": {},
   "source": [
    "#### **Training Data Loader File**\n",
    "Implement the `load` function to load and prepare the training data."
   ]
  },
  {
   "cell_type": "code",
   "execution_count": 4,
   "metadata": {
    "id": "trainingdataloader.py",
    "tags": [
     "trainingdataloader.py"
    ]
   },
   "outputs": [
    {
     "name": "stdout",
     "output_type": "stream",
     "text": [
      "Overwriting /home/asruser/my-workspace/.recipes/recipe-kgur_YT7/recipe/trainingdataloader.py\n"
     ]
    }
   ],
   "source": [
    "import logging\n",
    "logger = logging.getLogger()\n",
    "logger.setLevel(logging.CRITICAL)\n",
    "\n",
    "from numpy import median\n",
    "\n",
    "import pandas as pd \n",
    "import numpy as np\n",
    "\n",
    "import os\n",
    "import scipy.stats as st\n",
    "\n",
    "import itertools\n",
    "import scipy.stats as ss\n",
    "from scipy.stats import mstats\n",
    "import sys\n",
    "import sklearn\n",
    "from sklearn import preprocessing\n",
    "from sklearn.linear_model import LogisticRegression\n",
    "from sklearn.model_selection import train_test_split\n",
    "from datetime import datetime, timedelta\n",
    "from platform_sdk.dataset_reader import DatasetReader\n",
    "from .utils import get_client_context\n",
    "from numpy import median\n",
    "\n",
    "def load(configProperties):\n",
    "    print(\"Training Data Load Start\")\n",
    "\n",
    "    #########################################\n",
    "    # Load Data\n",
    "    #########################################    \n",
    "    client_context = get_client_context(configProperties)\n",
    "\n",
    "    dataset_reader = DatasetReader(client_context, configProperties['trainingDataSetId'])\n",
    "    df0 = dataset_reader.read()\n",
    "    \n",
    "    print(\"Training read complete\")\n",
    "    df0['timestamp'] = df0['timestamp'].astype('datetime64[ns]')\n",
    "    df0['Invoice_Month'] = df0['timestamp'].dt.month    \n",
    "\n",
    "    df0.loc[(df0['Invoice_Month'] <= 8) ,'Timeperiod'] = '1'\n",
    "    df0.loc[(df0['Invoice_Month'] > 8) ,'Timeperiod'] = '2'\n",
    "    \n",
    "    print(\"Timeperiod calculated\")\n",
    "    \n",
    "    df_orders = df0[df0['_experienceplatform.qty']>0]\n",
    "    df_returns= df0[df0['_experienceplatform.qty']<0]\n",
    "\n",
    "    df00 = df_orders\n",
    "\n",
    "    df_GroupByUser=df00.groupby(['_experienceplatform.acctnumber'])['timestamp'].count().to_frame('Store_Orders_Placed').reset_index()\n",
    "    df1=df00.groupby(['_experienceplatform.acctnumber'])['timestamp'].apply(min).to_frame('First_Order_Date').reset_index()\n",
    "    df2=df00.groupby(['_experienceplatform.acctnumber'])['timestamp'].apply(max).to_frame('Last_Order_Date').reset_index()\n",
    "    df3=df00.groupby(['_experienceplatform.acctnumber'])['_experienceplatform.salesamount'].sum().to_frame('Store_Revenue').reset_index()\n",
    "    df4=df00.groupby(['_experienceplatform.acctnumber'])['_experienceplatform.qty'].sum().to_frame('Store_Product_Quantity').reset_index()\n",
    "\n",
    "    df_GroupByUser['First_Order_Date'] = df1['First_Order_Date']\n",
    "    df_GroupByUser['Last_Order_Date'] = df2['Last_Order_Date']\n",
    "    df_GroupByUser['Store_Revenue'] = df3['Store_Revenue']\n",
    "    df_GroupByUser['Store_Product_Quantity'] = df4['Store_Product_Quantity']\n",
    "\n",
    "# Calculate total revenue and orders for each timeperiod for modeling\n",
    "    Store_Orders_Placed = pd.pivot_table(df00, index='_experienceplatform.acctnumber', columns=['Timeperiod'],\n",
    "                                         values='timestamp', aggfunc='count', fill_value=0).reset_index()\n",
    "\n",
    "    Store_Revenue = pd.pivot_table(df00, index='_experienceplatform.acctnumber', columns=['Timeperiod'],\n",
    "                                   values='_experienceplatform.salesamount', aggfunc='sum', fill_value=0).reset_index()\n",
    "\n",
    "    Store_Product_Quantity = pd.pivot_table(df00, index='_experienceplatform.acctnumber', columns=['Timeperiod'],\n",
    "                                            values='_experienceplatform.qty', aggfunc='sum', fill_value=0).reset_index()\n",
    "\n",
    "\n",
    "    df_GroupByUser['Store_Orders_Placed_TP1'] = Store_Orders_Placed['1']\n",
    "    df_GroupByUser['Store_Orders_Placed_TP2'] = Store_Orders_Placed['2']\n",
    "\n",
    "    df_GroupByUser['Store_Revenue_TP1'] = Store_Revenue['1']\n",
    "    df_GroupByUser['Store_Revenue_TP2'] = Store_Revenue['2']\n",
    "\n",
    "    df_GroupByUser['Store_Product_Quantity_TP1'] = Store_Product_Quantity['1']\n",
    "    df_GroupByUser['Store_Product_Quantity_TP2'] = Store_Product_Quantity['2']\n",
    "\n",
    "    \n",
    "    df01 = df_returns\n",
    "\n",
    "    dfr_GroupByUser=df01.groupby(['_experienceplatform.acctnumber'])['timestamp'].count().to_frame('Store_Orders_Returned').reset_index()\n",
    "    df8=df01.groupby(['_experienceplatform.acctnumber'])['timestamp'].apply(min).to_frame('First_Return_Date').reset_index()\n",
    "    df9=df01.groupby(['_experienceplatform.acctnumber'])['timestamp'].apply(max).to_frame('Last_Return_Date').reset_index()\n",
    "    df10=df01.groupby(['_experienceplatform.acctnumber'])['_experienceplatform.salesamount'].sum().to_frame('Store_Revenue_Refund').reset_index()\n",
    "    df11=df01.groupby(['_experienceplatform.acctnumber'])['_experienceplatform.qty'].sum().to_frame('Store_Product_Quantity_Returned').reset_index()\n",
    "\n",
    "# Calculate total revenue and orders for each timeperiod for modeling\n",
    "    Store_Orders_Returned = pd.pivot_table(df01, index='_experienceplatform.acctnumber', columns=['Timeperiod'],\n",
    "                                           values='timestamp', aggfunc='count', fill_value=0).reset_index()\n",
    "\n",
    "    Store_Revenue_Refund = pd.pivot_table(df01, index='_experienceplatform.acctnumber', columns=['Timeperiod'],\n",
    "                                          values='_experienceplatform.salesamount', aggfunc='sum', fill_value=0).reset_index()\n",
    "\n",
    "    Store_Product_Quantity_Returned = pd.pivot_table(df01, index='_experienceplatform.acctnumber', columns=['Timeperiod'],\n",
    "                                                     values='_experienceplatform.qty', aggfunc='sum', fill_value=0).reset_index()\n",
    "\n",
    "    dfr_GroupByUser['Store_Orders_Returned'] = abs(dfr_GroupByUser['Store_Orders_Returned'])\n",
    "\n",
    "    dfr_GroupByUser['First_Return_Date'] = df8['First_Return_Date']\n",
    "    dfr_GroupByUser['Last_Return_Date'] = df9['Last_Return_Date']\n",
    "    dfr_GroupByUser['Store_Revenue_Refund'] = abs(df10['Store_Revenue_Refund'])\n",
    "    dfr_GroupByUser['Store_Product_Quantity_Returned'] = abs(df11['Store_Product_Quantity_Returned'])\n",
    "\n",
    "    dfr_GroupByUser['Store_Orders_Returned_TP1'] = abs(Store_Orders_Returned['1'])\n",
    "    dfr_GroupByUser['Store_Orders_Returned_TP2'] = abs(Store_Orders_Returned['2'])\n",
    "\n",
    "    dfr_GroupByUser['Store_Revenue_Refund_TP1'] = abs(Store_Revenue_Refund['1'])\n",
    "    dfr_GroupByUser['Store_Revenue_Refund_TP2'] = abs(Store_Revenue_Refund['2'])\n",
    "\n",
    "    dfr_GroupByUser['Store_Product_Quantity_Returned_TP1'] = abs(Store_Product_Quantity_Returned['1'])\n",
    "    dfr_GroupByUser['Store_Product_Quantity_Returned_TP2'] = abs(Store_Product_Quantity_Returned['2'])\n",
    "\n",
    "\n",
    "    df_store = pd.merge(df_GroupByUser, dfr_GroupByUser, how='outer',on = '_experienceplatform.acctnumber')\n",
    "    df_store= df_store.reset_index(drop=True)\n",
    "\n",
    "    df_store['Store_Orders_Returned'] = df_store['Store_Orders_Returned'].fillna(0)\n",
    "    df_store['Store_Orders_Returned_TP1'] = df_store['Store_Orders_Returned_TP1'].fillna(0)\n",
    "    df_store['Store_Orders_Returned_TP2'] = df_store['Store_Orders_Returned_TP2'].fillna(0)\n",
    "\n",
    "    df_store['Store_Revenue_Refund'] = df_store['Store_Revenue_Refund'].fillna(0)\n",
    "    df_store['Store_Revenue_Refund_TP1'] = df_store['Store_Revenue_Refund_TP1'].fillna(0)\n",
    "    df_store['Store_Revenue_Refund_TP2'] = df_store['Store_Revenue_Refund_TP2'].fillna(0)\n",
    "\n",
    "\n",
    "    df_store['Store_Product_Quantity_Returned'] = df_store['Store_Product_Quantity_Returned'].fillna(0)\n",
    "    df_store['Store_Product_Quantity_Returned_TP1'] = df_store['Store_Product_Quantity_Returned_TP1'].fillna(0)\n",
    "    df_store['Store_Product_Quantity_Returned_TP2'] = df_store['Store_Product_Quantity_Returned_TP2'].fillna(0)\n",
    "\n",
    "    \n",
    "    df_store['First_Order_Date'] = pd.to_datetime(df_store['First_Order_Date'], errors='coerce')\n",
    "    df_store['Last_Order_Date'] = pd.to_datetime(df_store['Last_Order_Date'], errors='coerce')\n",
    "    \n",
    "    df_store = df_store[~(df_store.First_Order_Date.isnull())]\n",
    "\n",
    "    df_store = df_store[df_store['First_Order_Date']<= '2019-08-31']\n",
    "    df_store['Churn']=1\n",
    "    df_store.loc[(df_store['First_Order_Date']<= '2019-08-31') & (df_store['Last_Order_Date']> '2019-08-31'), 'Churn'] = 0\n",
    "    \n",
    "    \n",
    "    all_data = df_store\n",
    "    \n",
    "    all_data.drop(['First_Return_Date',\n",
    "                   'Last_Return_Date',\n",
    "                   'First_Order_Date',\n",
    "                   'Last_Order_Date'\n",
    "                  ],axis=1, inplace=True)\n",
    "\n",
    "    all_data['Store_Orders_Placed_TP1'] = np.where(all_data['Store_Orders_Placed_TP1'] > 264, 264,\n",
    "                                                   all_data['Store_Orders_Placed_TP1'])\n",
    "    all_data['Store_Orders_Returned_TP1'] = np.where(all_data['Store_Orders_Returned_TP1'] > 11, 11,\n",
    "                                                     all_data['Store_Orders_Returned_TP1'])\n",
    "    all_data['Store_Product_Quantity_Returned_TP1'] = np.where(all_data['Store_Product_Quantity_Returned_TP1'] > 40, 40,\n",
    "                                                               all_data['Store_Product_Quantity_Returned_TP1'])\n",
    "    all_data['Store_Product_Quantity_TP1'] = np.where(all_data['Store_Product_Quantity_TP1'] > 871, 871,\n",
    "                                                      all_data['Store_Product_Quantity_TP1'])\n",
    "    all_data['Store_Revenue_Refund_TP1'] = np.where(all_data['Store_Revenue_Refund_TP1'] > 497, 497,\n",
    "                                                    all_data['Store_Revenue_Refund_TP1'])\n",
    "    all_data['Store_Revenue_TP1'] = np.where(all_data['Store_Revenue_TP1'] > 3286, 3286,\n",
    "                                             all_data['Store_Revenue_TP1'])\n",
    "\n",
    "    all_data.rename(columns={'_experienceplatform.acctnumber': 'acctnumber'},inplace=True)\n",
    "\n",
    "    dataframe = all_data\n",
    "    \n",
    "\n",
    "    print(\"Training Data Load Finish\")\n",
    "    return dataframe"
   ]
  },
  {
   "cell_type": "markdown",
   "metadata": {},
   "source": [
    "---"
   ]
  },
  {
   "cell_type": "markdown",
   "metadata": {},
   "source": [
    "#### **Scoring Data Loader File**\n",
    "Implement the `load` function to load and prepare the scoring data."
   ]
  },
  {
   "cell_type": "code",
   "execution_count": 5,
   "metadata": {
    "id": "scoringdataloader.py",
    "tags": [
     "scoringdataloader.py"
    ]
   },
   "outputs": [
    {
     "name": "stdout",
     "output_type": "stream",
     "text": [
      "Overwriting /home/asruser/my-workspace/.recipes/recipe-kgur_YT7/recipe/scoringdataloader.py\n"
     ]
    }
   ],
   "source": [
    "import pandas as pd\n",
    "import numpy as np\n",
    "from datetime import datetime, timedelta\n",
    "from .utils import get_client_context\n",
    "from platform_sdk.dataset_reader import DatasetReader\n",
    "\n",
    "def load(config_properties):\n",
    "\n",
    "    print(\"Scoring Data Load Start\")\n",
    "\n",
    "    #########################################\n",
    "    # Load Data\n",
    "    #########################################\n",
    "    client_context = get_client_context(config_properties)\n",
    "\n",
    "    dataset_reader = DatasetReader(client_context, config_properties['scoringDataSetId'])\n",
    "    df0 = dataset_reader.read()\n",
    "    \n",
    "    df0['timestamp'] = df0['timestamp'].astype('datetime64[ns]')\n",
    "    df0['Invoice_Month'] = df0['timestamp'].dt.month    \n",
    "\n",
    "    df0.loc[(df0['Invoice_Month'] <= 8) ,'Timeperiod'] = '1'\n",
    "    df0.loc[(df0['Invoice_Month'] > 8) ,'Timeperiod'] = '2'\n",
    "\n",
    "    df_orders = df0[df0['_experienceplatform.qty']>0]\n",
    "    df_returns= df0[df0['_experienceplatform.qty']<0]\n",
    "\n",
    "    df00 = df_orders\n",
    "\n",
    "    df_GroupByUser=df00.groupby(['_experienceplatform.acctnumber'])['timestamp'].count().to_frame('Store_Orders_Placed').reset_index()\n",
    "    df1=df00.groupby(['_experienceplatform.acctnumber'])['timestamp'].apply(min).to_frame('First_Order_Date').reset_index()\n",
    "    df2=df00.groupby(['_experienceplatform.acctnumber'])['timestamp'].apply(max).to_frame('Last_Order_Date').reset_index()\n",
    "    df3=df00.groupby(['_experienceplatform.acctnumber'])['_experienceplatform.salesamount'].sum().to_frame('Store_Revenue').reset_index()\n",
    "    df4=df00.groupby(['_experienceplatform.acctnumber'])['_experienceplatform.qty'].sum().to_frame('Store_Product_Quantity').reset_index()\n",
    "\n",
    "    df_GroupByUser['First_Order_Date'] = df1['First_Order_Date']\n",
    "    df_GroupByUser['Last_Order_Date'] = df2['Last_Order_Date']\n",
    "    df_GroupByUser['Store_Revenue'] = df3['Store_Revenue']\n",
    "    df_GroupByUser['Store_Product_Quantity'] = df4['Store_Product_Quantity']\n",
    "\n",
    "# Calculate total revenue and orders for each timeperiod for modeling\n",
    "    Store_Orders_Placed = pd.pivot_table(df00, index='_experienceplatform.acctnumber', columns=['Timeperiod'],\n",
    "                                         values='timestamp', aggfunc='count', fill_value=0).reset_index()\n",
    "\n",
    "    Store_Revenue = pd.pivot_table(df00, index='_experienceplatform.acctnumber', columns=['Timeperiod'],\n",
    "                                   values='_experienceplatform.salesamount', aggfunc='sum', fill_value=0).reset_index()\n",
    "\n",
    "    Store_Product_Quantity = pd.pivot_table(df00, index='_experienceplatform.acctnumber', columns=['Timeperiod'],\n",
    "                                            values='_experienceplatform.qty', aggfunc='sum', fill_value=0).reset_index()\n",
    "\n",
    "\n",
    "    df_GroupByUser['Store_Orders_Placed_TP1'] = Store_Orders_Placed['1']\n",
    "    df_GroupByUser['Store_Orders_Placed_TP2'] = Store_Orders_Placed['2']\n",
    "\n",
    "    df_GroupByUser['Store_Revenue_TP1'] = Store_Revenue['1']\n",
    "    df_GroupByUser['Store_Revenue_TP2'] = Store_Revenue['2']\n",
    "\n",
    "    df_GroupByUser['Store_Product_Quantity_TP1'] = Store_Product_Quantity['1']\n",
    "    df_GroupByUser['Store_Product_Quantity_TP2'] = Store_Product_Quantity['2']\n",
    "\n",
    "    \n",
    "    df01 = df_returns\n",
    "\n",
    "    dfr_GroupByUser=df01.groupby(['_experienceplatform.acctnumber'])['timestamp'].count().to_frame('Store_Orders_Returned').reset_index()\n",
    "    df8=df01.groupby(['_experienceplatform.acctnumber'])['timestamp'].apply(min).to_frame('First_Return_Date').reset_index()\n",
    "    df9=df01.groupby(['_experienceplatform.acctnumber'])['timestamp'].apply(max).to_frame('Last_Return_Date').reset_index()\n",
    "    df10=df01.groupby(['_experienceplatform.acctnumber'])['_experienceplatform.salesamount'].sum().to_frame('Store_Revenue_Refund').reset_index()\n",
    "    df11=df01.groupby(['_experienceplatform.acctnumber'])['_experienceplatform.qty'].sum().to_frame('Store_Product_Quantity_Returned').reset_index()\n",
    "\n",
    "# Calculate total revenue and orders for each timeperiod for modeling\n",
    "    Store_Orders_Returned = pd.pivot_table(df01, index='_experienceplatform.acctnumber', columns=['Timeperiod'],\n",
    "                                           values='timestamp', aggfunc='count', fill_value=0).reset_index()\n",
    "\n",
    "    Store_Revenue_Refund = pd.pivot_table(df01, index='_experienceplatform.acctnumber', columns=['Timeperiod'],\n",
    "                                          values='_experienceplatform.salesamount', aggfunc='sum', fill_value=0).reset_index()\n",
    "\n",
    "    Store_Product_Quantity_Returned = pd.pivot_table(df01, index='_experienceplatform.acctnumber', columns=['Timeperiod'],\n",
    "                                                     values='_experienceplatform.qty', aggfunc='sum', fill_value=0).reset_index()\n",
    "\n",
    "    dfr_GroupByUser['Store_Orders_Returned'] = abs(dfr_GroupByUser['Store_Orders_Returned'])\n",
    "\n",
    "    dfr_GroupByUser['First_Return_Date'] = df8['First_Return_Date']\n",
    "    dfr_GroupByUser['Last_Return_Date'] = df9['Last_Return_Date']\n",
    "    dfr_GroupByUser['Store_Revenue_Refund'] = abs(df10['Store_Revenue_Refund'])\n",
    "    dfr_GroupByUser['Store_Product_Quantity_Returned'] = abs(df11['Store_Product_Quantity_Returned'])\n",
    "\n",
    "    dfr_GroupByUser['Store_Orders_Returned_TP1'] = abs(Store_Orders_Returned['1'])\n",
    "    dfr_GroupByUser['Store_Orders_Returned_TP2'] = abs(Store_Orders_Returned['2'])\n",
    "\n",
    "    dfr_GroupByUser['Store_Revenue_Refund_TP1'] = abs(Store_Revenue_Refund['1'])\n",
    "    dfr_GroupByUser['Store_Revenue_Refund_TP2'] = abs(Store_Revenue_Refund['2'])\n",
    "\n",
    "    dfr_GroupByUser['Store_Product_Quantity_Returned_TP1'] = abs(Store_Product_Quantity_Returned['1'])\n",
    "    dfr_GroupByUser['Store_Product_Quantity_Returned_TP2'] = abs(Store_Product_Quantity_Returned['2'])\n",
    "\n",
    "\n",
    "    df_store = pd.merge(df_GroupByUser, dfr_GroupByUser, how='outer',on = '_experienceplatform.acctnumber')\n",
    "    df_store= df_store.reset_index(drop=True)\n",
    "\n",
    "    df_store['Store_Orders_Returned'] = df_store['Store_Orders_Returned'].fillna(0)\n",
    "    df_store['Store_Orders_Returned_TP1'] = df_store['Store_Orders_Returned_TP1'].fillna(0)\n",
    "    df_store['Store_Orders_Returned_TP2'] = df_store['Store_Orders_Returned_TP2'].fillna(0)\n",
    "\n",
    "    df_store['Store_Revenue_Refund'] = df_store['Store_Revenue_Refund'].fillna(0)\n",
    "    df_store['Store_Revenue_Refund_TP1'] = df_store['Store_Revenue_Refund_TP1'].fillna(0)\n",
    "    df_store['Store_Revenue_Refund_TP2'] = df_store['Store_Revenue_Refund_TP2'].fillna(0)\n",
    "\n",
    "\n",
    "    df_store['Store_Product_Quantity_Returned'] = df_store['Store_Product_Quantity_Returned'].fillna(0)\n",
    "    df_store['Store_Product_Quantity_Returned_TP1'] = df_store['Store_Product_Quantity_Returned_TP1'].fillna(0)\n",
    "    df_store['Store_Product_Quantity_Returned_TP2'] = df_store['Store_Product_Quantity_Returned_TP2'].fillna(0)\n",
    "\n",
    "    \n",
    "    df_store['First_Order_Date'] = pd.to_datetime(df_store['First_Order_Date'], errors='coerce')\n",
    "    df_store['Last_Order_Date'] = pd.to_datetime(df_store['Last_Order_Date'], errors='coerce')\n",
    "    \n",
    "    df_store = df_store[~(df_store.First_Order_Date.isnull())]\n",
    "\n",
    "    df_store = df_store[df_store['First_Order_Date']<= '2019-08-31']\n",
    "    df_store['Churn']=1\n",
    "    df_store.loc[(df_store['First_Order_Date']<= '2019-08-31') & (df_store['Last_Order_Date']> '2019-08-31'), 'Churn'] = 0\n",
    "    \n",
    "    \n",
    "    all_data = df_store\n",
    "    \n",
    "    all_data.drop(['First_Return_Date',\n",
    "                   'Last_Return_Date',\n",
    "                   'First_Order_Date',\n",
    "                   'Last_Order_Date'\n",
    "                  ],axis=1, inplace=True)\n",
    "    \n",
    "    \n",
    "    all_data['Store_Orders_Placed_TP1'] = np.where(all_data['Store_Orders_Placed_TP1'] > 264, 264,\n",
    "                                                   all_data['Store_Orders_Placed_TP1'])\n",
    "    all_data['Store_Orders_Returned_TP1'] = np.where(all_data['Store_Orders_Returned_TP1'] > 11, 11,\n",
    "                                                     all_data['Store_Orders_Returned_TP1'])\n",
    "    all_data['Store_Product_Quantity_Returned_TP1'] = np.where(all_data['Store_Product_Quantity_Returned_TP1'] > 40, 40,\n",
    "                                                               all_data['Store_Product_Quantity_Returned_TP1'])\n",
    "    all_data['Store_Product_Quantity_TP1'] = np.where(all_data['Store_Product_Quantity_TP1'] > 871, 871,\n",
    "                                                      all_data['Store_Product_Quantity_TP1'])\n",
    "    all_data['Store_Revenue_Refund_TP1'] = np.where(all_data['Store_Revenue_Refund_TP1'] > 497, 497,\n",
    "                                                    all_data['Store_Revenue_Refund_TP1'])\n",
    "    all_data['Store_Revenue_TP1'] = np.where(all_data['Store_Revenue_TP1'] > 3286, 3286,\n",
    "                                             all_data['Store_Revenue_TP1'])\n",
    "\n",
    "    all_data.rename(columns={'_experienceplatform.acctnumber': 'acctnumber'},inplace=True)\n",
    "\n",
    "    dataframe = all_data\n",
    "    \n",
    "    print(\"Scoring Data Load Finish\")\n",
    "\n",
    "    return dataframe"
   ]
  },
  {
   "cell_type": "markdown",
   "metadata": {},
   "source": [
    "---"
   ]
  },
  {
   "cell_type": "markdown",
   "metadata": {},
   "source": [
    "#### **Pipeline File**\n",
    "Implement the `train` function and return the trained model. Implement the `score` function to return a prediction made on the scoring data."
   ]
  },
  {
   "cell_type": "code",
   "execution_count": 6,
   "metadata": {
    "id": "pipeline.py",
    "tags": [
     "pipeline.py"
    ]
   },
   "outputs": [
    {
     "name": "stdout",
     "output_type": "stream",
     "text": [
      "Overwriting /home/asruser/my-workspace/.recipes/recipe-kgur_YT7/recipe/pipeline.py\n"
     ]
    }
   ],
   "source": [
    "from sklearn.ensemble import RandomForestClassifier\n",
    "from sklearn.linear_model import LogisticRegression\n",
    "\n",
    "def train(configProperties, data):\n",
    "\n",
    "    print(\"Train Start\")\n",
    "\n",
    "    #########################################\n",
    "    # Extract fields from configProperties\n",
    "    #########################################\n",
    "    learning_rate = float(configProperties['learning_rate'])\n",
    "    n_estimators = int(configProperties['n_estimators'])\n",
    "    max_depth = int(configProperties['max_depth'])\n",
    "\n",
    "    X_train = data.drop(['Churn','acctnumber'], axis=1).values\n",
    "    Y_train = data['Churn'].values\n",
    "   \n",
    "\n",
    "    \n",
    "    from sklearn.linear_model import LogisticRegression\n",
    "    import sklearn\n",
    "    from sklearn import metrics\n",
    "\n",
    "    model = LogisticRegression()\n",
    "    model.fit(X_train, Y_train)\n",
    "    \n",
    "    print(\"Train Complete\")\n",
    "    \n",
    "    return model\n",
    "\n",
    "def score(configProperties, data, model):\n",
    "\n",
    "    print(\"Score Start\")\n",
    "\n",
    "    X_test = data.drop(['Churn','acctnumber'], axis=1).values\n",
    "    \n",
    "    y_pred = model.predict(X_test)\n",
    "\n",
    "    data['Churn_Prediction'] = y_pred\n",
    "\n",
    "    data = data[['acctnumber','Churn_Prediction']]\n",
    "\n",
    "    data = data.rename(columns={'Churn_Prediction': '_experienceplatform.Churn_Prediction', 'acctnumber': '_experienceplatform.acctnumber'})\n",
    "\n",
    "\n",
    "    print(\"Score Complete\")\n",
    "    return data"
   ]
  },
  {
   "cell_type": "markdown",
   "metadata": {},
   "source": [
    "---"
   ]
  },
  {
   "cell_type": "markdown",
   "metadata": {},
   "source": [
    "#### **Evaluator File**\n",
    "Implement the `split` function to partition the training data and the `evaluate` function to the return the validation metrics you wish to see. Training output will be shown below this file cell."
   ]
  },
  {
   "cell_type": "code",
   "execution_count": 7,
   "metadata": {
    "id": "evaluator.py",
    "tags": [
     "evaluator.py"
    ]
   },
   "outputs": [
    {
     "name": "stdout",
     "output_type": "stream",
     "text": [
      "Overwriting /home/asruser/my-workspace/.recipes/recipe-kgur_YT7/recipe/evaluator.py\n"
     ]
    }
   ],
   "source": [
    "from ml.runtime.python.core.regressionEvaluator import RegressionEvaluator\n",
    "import numpy as np\n",
    "import sklearn\n",
    "from sklearn.model_selection import train_test_split\n",
    "\n",
    "\n",
    "class Evaluator(RegressionEvaluator):\n",
    "    def __init__(self):\n",
    "        print (\"Initiate\")\n",
    "\n",
    "    def split(self, configProperties={}, dataframe=None):\n",
    "        \n",
    "        train, val = train_test_split(dataframe, test_size=0.3,random_state=1234)\n",
    "\n",
    "        return train, val\n",
    "\n",
    "    def evaluate(self, data=[], model={}, configProperties={}):\n",
    "        print (\"Evaluation evaluate triggered\")\n",
    "        val = data.drop(['Churn','acctnumber'], axis=1)\n",
    "        y_pred = model.predict(val)\n",
    "        y_actual = data['Churn'].values\n",
    "        \n",
    "        accuracy = sklearn.metrics.accuracy_score(y_actual, y_pred, normalize=True, sample_weight=None)\n",
    "        recall = sklearn.metrics.recall_score(y_actual, y_pred, labels=None, pos_label=1, average='binary', sample_weight=None)\n",
    "        precision = sklearn.metrics.precision_score(y_actual, y_pred, labels=None, pos_label=1, average='binary', sample_weight=None)\n",
    "        \n",
    "        \n",
    "        metric = [{\"name\": \"Accuracy\", \"value\": accuracy, \"valueType\": \"double\"},\n",
    "                  {\"name\": \"Recall\", \"value\": recall, \"valueType\": \"double\"},\n",
    "                  {\"name\": \"Precision\", \"value\": precision, \"valueType\": \"double\"}]\n",
    "        \n",
    "          \n",
    "        print(metric)\n",
    "        return metric"
   ]
  },
  {
   "cell_type": "markdown",
   "metadata": {},
   "source": [
    "---"
   ]
  },
  {
   "cell_type": "markdown",
   "metadata": {},
   "source": [
    "#### **Data Saver File**\n",
    "Implement the `save` function for saving your prediction. Scoring output will be added below this cell."
   ]
  },
  {
   "cell_type": "code",
   "execution_count": 8,
   "metadata": {
    "id": "datasaver.py",
    "tags": [
     "datasaver.py"
    ]
   },
   "outputs": [
    {
     "name": "stdout",
     "output_type": "stream",
     "text": [
      "Overwriting /home/asruser/my-workspace/.recipes/recipe-kgur_YT7/recipe/datasaver.py\n"
     ]
    }
   ],
   "source": [
    "from .utils import get_client_context\n",
    "from platform_sdk.models import Dataset\n",
    "from platform_sdk.dataset_writer import DatasetWriter\n",
    "\n",
    "def save(config_properties, prediction):\n",
    "  print(\"Datasaver Start\")\n",
    "\n",
    "  client_context = get_client_context(config_properties)\n",
    "  dataset = Dataset(client_context).get_by_id(config_properties['scoringResultsDataSetId'])\n",
    "  dataset_writer = DatasetWriter(client_context, dataset)\n",
    "  dataset_writer.write(prediction, file_format='json')\n",
    "\n",
    "  print(\"Datasaver Finish\")\n",
    "  print(prediction)\n"
   ]
  }
 ],
 "metadata": {
  "elementId": "z-DaJuql",
  "engine_name": "churn",
  "isScoringRun": true,
  "kernelspec": {
   "display_name": "Python 3",
   "language": "python",
   "name": "python3"
  },
  "language_info": {
   "codemirror_mode": {
    "name": "ipython",
    "version": 3
   },
   "file_extension": ".py",
   "mimetype": "text/x-python",
   "name": "python",
   "nbconvert_exporter": "python",
   "pygments_lexer": "ipython3",
   "version": "3.6.7"
  },
  "last_created_recipe": "https://experience.adobe.com/platform/ml/recipes/dcf0fa77-a741-468d-9551-6c68d963888e",
  "notebook_type": "builder"
 },
 "nbformat": 4,
 "nbformat_minor": 4
}
