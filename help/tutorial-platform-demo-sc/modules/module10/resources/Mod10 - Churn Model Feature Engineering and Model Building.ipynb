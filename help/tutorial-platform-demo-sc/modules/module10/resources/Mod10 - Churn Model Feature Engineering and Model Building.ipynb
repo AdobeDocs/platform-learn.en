{
 "cells": [
  {
   "cell_type": "markdown",
   "metadata": {},
   "source": [
    "# This is a Data Feature Engineering Notebook"
   ]
  },
  {
   "cell_type": "markdown",
   "metadata": {},
   "source": [
    "### Import libraries for your feature engineering"
   ]
  },
  {
   "cell_type": "code",
   "execution_count": 2,
   "metadata": {},
   "outputs": [],
   "source": [
    "import warnings\n",
    "warnings.filterwarnings('ignore')\n",
    "from subprocess import check_output\n",
    "\n",
    "import logging\n",
    "logger = logging.getLogger()\n",
    "logger.setLevel(logging.CRITICAL)\n",
    "\n",
    "import seaborn as sns\n",
    "from numpy import median\n",
    "import pandas as pd\n",
    "import matplotlib.pyplot as plt\n",
    "%matplotlib inline"
   ]
  },
  {
   "cell_type": "markdown",
   "metadata": {},
   "source": [
    "### Read the dataset"
   ]
  },
  {
   "cell_type": "code",
   "execution_count": 1,
   "metadata": {},
   "outputs": [
    {
     "data": {
      "text/html": [
       "<div>\n",
       "<style scoped>\n",
       "    .dataframe tbody tr th:only-of-type {\n",
       "        vertical-align: middle;\n",
       "    }\n",
       "\n",
       "    .dataframe tbody tr th {\n",
       "        vertical-align: top;\n",
       "    }\n",
       "\n",
       "    .dataframe thead th {\n",
       "        text-align: right;\n",
       "    }\n",
       "</style>\n",
       "<table border=\"1\" class=\"dataframe\">\n",
       "  <thead>\n",
       "    <tr style=\"text-align: right;\">\n",
       "      <th></th>\n",
       "      <th>_experienceplatform.acctnumber</th>\n",
       "      <th>_experienceplatform.prodcategory</th>\n",
       "      <th>_experienceplatform.qty</th>\n",
       "      <th>_experienceplatform.salesamount</th>\n",
       "      <th>_experienceplatform.pricemethod</th>\n",
       "      <th>timestamp</th>\n",
       "    </tr>\n",
       "  </thead>\n",
       "  <tbody>\n",
       "    <tr>\n",
       "      <th>0</th>\n",
       "      <td>C1030752</td>\n",
       "      <td>Baby Food</td>\n",
       "      <td>1</td>\n",
       "      <td>10</td>\n",
       "      <td>Discount</td>\n",
       "      <td>2018-09-13T00:00:00</td>\n",
       "    </tr>\n",
       "    <tr>\n",
       "      <th>1</th>\n",
       "      <td>C1030752</td>\n",
       "      <td>Baby Food</td>\n",
       "      <td>1</td>\n",
       "      <td>16</td>\n",
       "      <td>Discount</td>\n",
       "      <td>2018-09-13T00:00:00</td>\n",
       "    </tr>\n",
       "    <tr>\n",
       "      <th>2</th>\n",
       "      <td>C1030752</td>\n",
       "      <td>Cheese</td>\n",
       "      <td>2</td>\n",
       "      <td>11</td>\n",
       "      <td>Discount</td>\n",
       "      <td>2018-09-13T00:00:00</td>\n",
       "    </tr>\n",
       "    <tr>\n",
       "      <th>3</th>\n",
       "      <td>C1030752</td>\n",
       "      <td>Baby Food</td>\n",
       "      <td>1</td>\n",
       "      <td>9</td>\n",
       "      <td>Discount</td>\n",
       "      <td>2018-09-13T00:00:00</td>\n",
       "    </tr>\n",
       "    <tr>\n",
       "      <th>4</th>\n",
       "      <td>C1030752</td>\n",
       "      <td>Baby Food</td>\n",
       "      <td>1</td>\n",
       "      <td>14</td>\n",
       "      <td>Discount</td>\n",
       "      <td>2018-09-13T00:00:00</td>\n",
       "    </tr>\n",
       "  </tbody>\n",
       "</table>\n",
       "</div>"
      ],
      "text/plain": [
       "  _experienceplatform.acctnumber _experienceplatform.prodcategory  \\\n",
       "0                       C1030752                        Baby Food   \n",
       "1                       C1030752                        Baby Food   \n",
       "2                       C1030752                           Cheese   \n",
       "3                       C1030752                        Baby Food   \n",
       "4                       C1030752                        Baby Food   \n",
       "\n",
       "   _experienceplatform.qty  _experienceplatform.salesamount  \\\n",
       "0                        1                               10   \n",
       "1                        1                               16   \n",
       "2                        2                               11   \n",
       "3                        1                                9   \n",
       "4                        1                               14   \n",
       "\n",
       "  _experienceplatform.pricemethod            timestamp  \n",
       "0                        Discount  2018-09-13T00:00:00  \n",
       "1                        Discount  2018-09-13T00:00:00  \n",
       "2                        Discount  2018-09-13T00:00:00  \n",
       "3                        Discount  2018-09-13T00:00:00  \n",
       "4                        Discount  2018-09-13T00:00:00  "
      ]
     },
     "execution_count": 1,
     "metadata": {},
     "output_type": "execute_result"
    }
   ],
   "source": [
    "from platform_sdk.dataset_reader import DatasetReader\n",
    "from datetime import date\n",
    "dataset_reader = DatasetReader(PLATFORM_SDK_CLIENT_CONTEXT, dataset_id=\"5dd2ee272a371e18a8fa7ebd\")\n",
    "df0 = dataset_reader.limit(200000).read()\n",
    "df0.head()"
   ]
  },
  {
   "cell_type": "markdown",
   "metadata": {},
   "source": [
    "### Split the time period into before Aug and After Aug'19 to do analysis on drop in orders and revenue"
   ]
  },
  {
   "cell_type": "code",
   "execution_count": 4,
   "metadata": {},
   "outputs": [],
   "source": [
    "df0['timestamp'] = df0['timestamp'].astype('datetime64[ns]')\n",
    "df0['Invoice_Month'] = df0['timestamp'].dt.month\n",
    "df0.loc[(df0['Invoice_Month'] <= 8) ,'Timeperiod'] = '1'\n",
    "df0.loc[(df0['Invoice_Month'] > 8) ,'Timeperiod'] = '2'"
   ]
  },
  {
   "cell_type": "markdown",
   "metadata": {},
   "source": [
    "### Create metrics - store orders, returns, revenue and quantity bought for Timeperiod 1 and Timeperiod 2"
   ]
  },
  {
   "cell_type": "markdown",
   "metadata": {},
   "source": [
    "### The data is split into orders and returns to calculate returns separately"
   ]
  },
  {
   "cell_type": "code",
   "execution_count": 5,
   "metadata": {},
   "outputs": [],
   "source": [
    "df_orders = df0[df0['_experienceplatform.qty']>0]\n",
    "df_returns= df0[df0['_experienceplatform.qty']<0]\n",
    "df00 = df_orders\n",
    "\n",
    "df_GroupByUser=df00.groupby(['_experienceplatform.acctnumber'])['timestamp'].count().to_frame('Store_Orders_Placed').reset_index()\n",
    "df1=df00.groupby(['_experienceplatform.acctnumber'])['timestamp'].apply(min).to_frame('First_Order_Date').reset_index()\n",
    "df2=df00.groupby(['_experienceplatform.acctnumber'])['timestamp'].apply(max).to_frame('Last_Order_Date').reset_index()\n",
    "df3=df00.groupby(['_experienceplatform.acctnumber'])['_experienceplatform.salesamount'].sum().to_frame('Store_Revenue').reset_index()\n",
    "df4=df00.groupby(['_experienceplatform.acctnumber'])['_experienceplatform.qty'].sum().to_frame('Store_Product_Quantity').reset_index()\n",
    "\n",
    "df_GroupByUser['First_Order_Date'] = df1['First_Order_Date']\n",
    "df_GroupByUser['Last_Order_Date'] = df2['Last_Order_Date']\n",
    "df_GroupByUser['Store_Revenue'] = df3['Store_Revenue']\n",
    "df_GroupByUser['Store_Product_Quantity'] = df4['Store_Product_Quantity']\n",
    "\n",
    "# Calculate total revenue and orders for each timeperiod for modeling\n",
    "Store_Orders_Placed = pd.pivot_table(df00, index='_experienceplatform.acctnumber', columns=['Timeperiod'],\n",
    "               values='timestamp', aggfunc='count', fill_value=0).reset_index()\n",
    "\n",
    "Store_Revenue = pd.pivot_table(df00, index='_experienceplatform.acctnumber', columns=['Timeperiod'],\n",
    "               values='_experienceplatform.salesamount', aggfunc='sum', fill_value=0).reset_index()\n",
    "\n",
    "Store_Product_Quantity = pd.pivot_table(df00, index='_experienceplatform.acctnumber', columns=['Timeperiod'],\n",
    "               values='_experienceplatform.qty', aggfunc='sum', fill_value=0).reset_index()\n",
    "\n",
    "\n",
    "df_GroupByUser['Store_Orders_Placed_TP1'] = Store_Orders_Placed['1']\n",
    "df_GroupByUser['Store_Orders_Placed_TP2'] = Store_Orders_Placed['2']\n",
    "\n",
    "df_GroupByUser['Store_Revenue_TP1'] = Store_Revenue['1']\n",
    "df_GroupByUser['Store_Revenue_TP2'] = Store_Revenue['2']\n",
    "\n",
    "df_GroupByUser['Store_Product_Quantity_TP1'] = Store_Product_Quantity['1']\n",
    "df_GroupByUser['Store_Product_Quantity_TP2'] = Store_Product_Quantity['2']\n"
   ]
  },
  {
   "cell_type": "code",
   "execution_count": 6,
   "metadata": {},
   "outputs": [],
   "source": [
    "df01 = df_returns\n",
    "\n",
    "dfr_GroupByUser=df01.groupby(['_experienceplatform.acctnumber'])['timestamp'].count().to_frame('Store_Orders_Returned').reset_index()\n",
    "df8=df01.groupby(['_experienceplatform.acctnumber'])['timestamp'].apply(min).to_frame('First_Return_Date').reset_index()\n",
    "df9=df01.groupby(['_experienceplatform.acctnumber'])['timestamp'].apply(max).to_frame('Last_Return_Date').reset_index()\n",
    "df10=df01.groupby(['_experienceplatform.acctnumber'])['_experienceplatform.salesamount'].sum().to_frame('Store_Revenue_Refund').reset_index()\n",
    "df11=df01.groupby(['_experienceplatform.acctnumber'])['_experienceplatform.qty'].sum().to_frame('Store_Product_Quantity_Returned').reset_index()\n",
    "\n",
    "# Calculate total revenue and orders for each timeperiod for modeling\n",
    "Store_Orders_Returned = pd.pivot_table(df01, index='_experienceplatform.acctnumber', columns=['Timeperiod'],\n",
    "               values='timestamp', aggfunc='count', fill_value=0).reset_index()\n",
    "\n",
    "Store_Revenue_Refund = pd.pivot_table(df01, index='_experienceplatform.acctnumber', columns=['Timeperiod'],\n",
    "               values='_experienceplatform.salesamount', aggfunc='sum', fill_value=0).reset_index()\n",
    "\n",
    "Store_Product_Quantity_Returned = pd.pivot_table(df01, index='_experienceplatform.acctnumber', columns=['Timeperiod'],\n",
    "               values='_experienceplatform.qty', aggfunc='sum', fill_value=0).reset_index()\n",
    "\n",
    "dfr_GroupByUser['Store_Orders_Returned'] = abs(dfr_GroupByUser['Store_Orders_Returned'])\n",
    "\n",
    "dfr_GroupByUser['First_Return_Date'] = df8['First_Return_Date']\n",
    "dfr_GroupByUser['Last_Return_Date'] = df9['Last_Return_Date']\n",
    "dfr_GroupByUser['Store_Revenue_Refund'] = abs(df10['Store_Revenue_Refund'])\n",
    "dfr_GroupByUser['Store_Product_Quantity_Returned'] = abs(df11['Store_Product_Quantity_Returned'])\n",
    "\n",
    "dfr_GroupByUser['Store_Orders_Returned_TP1'] = abs(Store_Orders_Returned['1'])\n",
    "dfr_GroupByUser['Store_Orders_Returned_TP2'] = abs(Store_Orders_Returned['2'])\n",
    "\n",
    "dfr_GroupByUser['Store_Revenue_Refund_TP1'] = abs(Store_Revenue_Refund['1'])\n",
    "dfr_GroupByUser['Store_Revenue_Refund_TP2'] = abs(Store_Revenue_Refund['2'])\n",
    "\n",
    "dfr_GroupByUser['Store_Product_Quantity_Returned_TP1'] = abs(Store_Product_Quantity_Returned['1'])\n",
    "dfr_GroupByUser['Store_Product_Quantity_Returned_TP2'] = abs(Store_Product_Quantity_Returned['2'])\n"
   ]
  },
  {
   "cell_type": "code",
   "execution_count": 35,
   "metadata": {},
   "outputs": [
    {
     "data": {
      "text/plain": [
       "Index(['_experienceplatform.acctnumber', 'Store_Orders_Returned',\n",
       "       'First_Return_Date', 'Last_Return_Date', 'Store_Revenue_Refund',\n",
       "       'Store_Product_Quantity_Returned', 'Store_Orders_Returned_TP1',\n",
       "       'Store_Orders_Returned_TP2', 'Store_Revenue_Refund_TP1',\n",
       "       'Store_Revenue_Refund_TP2', 'Store_Product_Quantity_Returned_TP1',\n",
       "       'Store_Product_Quantity_Returned_TP2'],\n",
       "      dtype='object')"
      ]
     },
     "execution_count": 35,
     "metadata": {},
     "output_type": "execute_result"
    }
   ],
   "source": [
    "dfr_GroupByUser.columns"
   ]
  },
  {
   "cell_type": "markdown",
   "metadata": {},
   "source": [
    "### Merge orders and returns data - Note that this is now aggregated at a customer level i.e., 1 customer will have one record"
   ]
  },
  {
   "cell_type": "code",
   "execution_count": 7,
   "metadata": {},
   "outputs": [],
   "source": [
    "df_store = pd.merge(df_GroupByUser, dfr_GroupByUser, how='outer',on = '_experienceplatform.acctnumber')\n",
    "df_store= df_store.reset_index(drop=True)\n",
    "\n",
    "df_store['Store_Orders_Returned'] = df_store['Store_Orders_Returned'].fillna(0)\n",
    "df_store['Store_Orders_Returned_TP1'] = df_store['Store_Orders_Returned_TP1'].fillna(0)\n",
    "df_store['Store_Orders_Returned_TP2'] = df_store['Store_Orders_Returned_TP2'].fillna(0)\n",
    "\n",
    "df_store['Store_Revenue_Refund'] = df_store['Store_Revenue_Refund'].fillna(0)\n",
    "df_store['Store_Revenue_Refund_TP1'] = df_store['Store_Revenue_Refund_TP1'].fillna(0)\n",
    "df_store['Store_Revenue_Refund_TP2'] = df_store['Store_Revenue_Refund_TP2'].fillna(0)\n",
    "\n",
    "df_store['Store_Product_Quantity_Returned'] = df_store['Store_Product_Quantity_Returned'].fillna(0)\n",
    "df_store['Store_Product_Quantity_Returned_TP1'] = df_store['Store_Product_Quantity_Returned_TP1'].fillna(0)\n",
    "df_store['Store_Product_Quantity_Returned_TP2'] = df_store['Store_Product_Quantity_Returned_TP2'].fillna(0)\n"
   ]
  },
  {
   "cell_type": "code",
   "execution_count": 8,
   "metadata": {},
   "outputs": [],
   "source": [
    "df_store['First_Order_Date'] = pd.to_datetime(df_store['First_Order_Date'], errors='coerce')\n",
    "df_store['Last_Order_Date'] = pd.to_datetime(df_store['Last_Order_Date'], errors='coerce')"
   ]
  },
  {
   "cell_type": "markdown",
   "metadata": {},
   "source": [
    "## Defining Churn \n",
    "Churn is defined as customers who have made a purchase on or before August but not made any purchase after Aug. "
   ]
  },
  {
   "cell_type": "code",
   "execution_count": 9,
   "metadata": {},
   "outputs": [],
   "source": [
    "df_store = df_store[~(df_store.First_Order_Date.isnull())]\n",
    "\n",
    "df_store = df_store[df_store['First_Order_Date']<= '2019-08-31']\n",
    "df_store['Churn']=1\n",
    "df_store.loc[(df_store['First_Order_Date']<= '2019-08-31') & (df_store['Last_Order_Date']> '2019-08-31'), 'Churn'] = 0"
   ]
  },
  {
   "cell_type": "markdown",
   "metadata": {},
   "source": [
    "### View the distribution of Churn"
   ]
  },
  {
   "cell_type": "code",
   "execution_count": 42,
   "metadata": {},
   "outputs": [
    {
     "data": {
      "text/plain": [
       "0    368\n",
       "1    335\n",
       "Name: Churn, dtype: int64"
      ]
     },
     "execution_count": 42,
     "metadata": {},
     "output_type": "execute_result"
    }
   ],
   "source": [
    "df_store['Churn'].value_counts()"
   ]
  },
  {
   "cell_type": "code",
   "execution_count": 44,
   "metadata": {},
   "outputs": [
    {
     "name": "stdout",
     "output_type": "stream",
     "text": [
      "Non Churners : 368\n",
      "Churners : 335\n",
      "Total Customers : 703\n",
      "Proportion : 47 %\n"
     ]
    },
    {
     "data": {
      "text/plain": [
       "<matplotlib.axes._subplots.AxesSubplot at 0x7f1cfe5c6898>"
      ]
     },
     "execution_count": 44,
     "metadata": {},
     "output_type": "execute_result"
    },
    {
     "data": {
      "image/png": "[encoded data removed]",
      "text/plain": [
       "<Figure size 504x288 with 1 Axes>"
      ]
     },
     "metadata": {
      "needs_background": "light"
     },
     "output_type": "display_data"
    }
   ],
   "source": [
    "df = df_store\n",
    "\n",
    "plt.figure(figsize=(7,4))\n",
    "\n",
    "print ( 'Non Churners : ' + str(df_store[df_store['Churn']==0]['_experienceplatform.acctnumber'].count()))\n",
    "print ('Churners : ' + str(df_store[df_store['Churn']==1]['_experienceplatform.acctnumber'].count()))\n",
    "print ( 'Total Customers : ' + str(df_store['_experienceplatform.acctnumber'].count()))\n",
    "print ('Proportion : ' + str(int(100*df_store[df_store['Churn']==1]['_experienceplatform.acctnumber'].count()/df_store['_experienceplatform.acctnumber'].count())) + ' %')\n",
    "df['Churn'].astype(str).hist()"
   ]
  },
  {
   "cell_type": "markdown",
   "metadata": {},
   "source": [
    "### Box Plots - Timeperiod 1\n",
    "Box plots are used to visualize any outliers in the data. Outliers need to be treated before modeling"
   ]
  },
  {
   "cell_type": "markdown",
   "metadata": {},
   "source": [
    "### Orders"
   ]
  },
  {
   "cell_type": "code",
   "execution_count": 45,
   "metadata": {},
   "outputs": [
    {
     "name": "stdout",
     "output_type": "stream",
     "text": [
      "Average of Orders placed in timeperiod 1 by customers who did not churn later on i.e Churn = 0 is 315.3505434782609\n",
      "Average of Orders placed in timeperiod 1 by customers who churned later on i.e Churn = 1 is 13.611940298507463\n"
     ]
    },
    {
     "data": {
      "text/plain": [
       "<matplotlib.axes._subplots.AxesSubplot at 0x7f1cfe3e85c0>"
      ]
     },
     "execution_count": 45,
     "metadata": {},
     "output_type": "execute_result"
    },
    {
     "data": {
      "image/png": "[encoded data removed]",
      "text/plain": [
       "<Figure size 792x504 with 1 Axes>"
      ]
     },
     "metadata": {
      "needs_background": "light"
     },
     "output_type": "display_data"
    }
   ],
   "source": [
    "fig = plt.gcf()\n",
    "fig.set_size_inches( 11, 7)\n",
    "print ('Average of Orders placed in timeperiod 1 by customers who did not churn later on i.e Churn = 0 is '+ str(df[df['Churn']==0]['Store_Orders_Placed_TP1'].mean()))\n",
    "print ('Average of Orders placed in timeperiod 1 by customers who churned later on i.e Churn = 1 is '+ str(df[df['Churn']==1]['Store_Orders_Placed_TP1'].mean()))\n",
    "sns.boxplot(x='Churn', y='Store_Orders_Placed_TP1' , data=df[df['Store_Orders_Placed_TP1']<100])"
   ]
  },
  {
   "cell_type": "markdown",
   "metadata": {},
   "source": [
    "### Quantity"
   ]
  },
  {
   "cell_type": "code",
   "execution_count": 46,
   "metadata": {},
   "outputs": [
    {
     "name": "stdout",
     "output_type": "stream",
     "text": [
      "Average of Product Quantity purchased by customers who did not Churn later on i.e Churn = 0 is  776.3994565217391\n",
      "Average of Product Quantity purchased by customers who Churned later on i.e Churn = 1  is  34.20597014925373\n"
     ]
    },
    {
     "data": {
      "text/plain": [
       "<matplotlib.axes._subplots.AxesSubplot at 0x7f1cff2f06a0>"
      ]
     },
     "execution_count": 46,
     "metadata": {},
     "output_type": "execute_result"
    },
    {
     "data": {
      "image/png": "[encoded data removed]",
      "text/plain": [
       "<Figure size 792x504 with 1 Axes>"
      ]
     },
     "metadata": {
      "needs_background": "light"
     },
     "output_type": "display_data"
    }
   ],
   "source": [
    "fig = plt.gcf()\n",
    "fig.set_size_inches( 11, 7)\n",
    "print ('Average of Product Quantity purchased by customers who did not Churn later on i.e Churn = 0 is  '+ str(df[df['Churn']==0]['Store_Product_Quantity_TP1'].mean()))\n",
    "print ('Average of Product Quantity purchased by customers who Churned later on i.e Churn = 1  is  '+ str(df[df['Churn']==1]['Store_Product_Quantity_TP1'].mean()))\n",
    "sns.boxplot(x='Churn', y='Store_Product_Quantity_TP1' , data=df[df['Store_Product_Quantity_TP1']<100])"
   ]
  },
  {
   "cell_type": "markdown",
   "metadata": {},
   "source": [
    "### Revenue"
   ]
  },
  {
   "cell_type": "code",
   "execution_count": 47,
   "metadata": {},
   "outputs": [
    {
     "name": "stdout",
     "output_type": "stream",
     "text": [
      "Average of Revenue Generated by customers who did not Churn later on i.e Churn = 0 is 12694.671195652174\n",
      "Average of Revenue Generated by customers who Churned later on i.e Churn = 1 is 699.2477611940299\n"
     ]
    },
    {
     "data": {
      "text/plain": [
       "<matplotlib.axes._subplots.AxesSubplot at 0x7f1cfed95a90>"
      ]
     },
     "execution_count": 47,
     "metadata": {},
     "output_type": "execute_result"
    },
    {
     "data": {
      "image/png": "[encoded data removed]",
      "text/plain": [
       "<Figure size 792x504 with 1 Axes>"
      ]
     },
     "metadata": {
      "needs_background": "light"
     },
     "output_type": "display_data"
    }
   ],
   "source": [
    "fig = plt.gcf()\n",
    "fig.set_size_inches( 11, 7)\n",
    "print ('Average of Revenue Generated by customers who did not Churn later on i.e Churn = 0 is '+ str(df[df['Churn']==0]['Store_Revenue_TP1'].mean()))\n",
    "print ('Average of Revenue Generated by customers who Churned later on i.e Churn = 1 is '+ str(df[df['Churn']==1]['Store_Revenue_TP1'].mean()))\n",
    "sns.boxplot(x='Churn', y='Store_Revenue_TP1' , data=df[df['Store_Revenue_TP1']<10000])"
   ]
  },
  {
   "cell_type": "markdown",
   "metadata": {},
   "source": [
    "### Refund"
   ]
  },
  {
   "cell_type": "code",
   "execution_count": 48,
   "metadata": {},
   "outputs": [
    {
     "name": "stdout",
     "output_type": "stream",
     "text": [
      "Average of Refund to customers who did not Churn later on i.e Churn =0 is 303.6195652173913\n",
      "Average of Refund to customers who Churned later on i.e Churn =1 is 33.83880597014925\n"
     ]
    },
    {
     "data": {
      "text/plain": [
       "<matplotlib.axes._subplots.AxesSubplot at 0x7f1cfeaaa048>"
      ]
     },
     "execution_count": 48,
     "metadata": {},
     "output_type": "execute_result"
    },
    {
     "data": {
      "image/png": "[encoded data removed]",
      "text/plain": [
       "<Figure size 792x504 with 1 Axes>"
      ]
     },
     "metadata": {
      "needs_background": "light"
     },
     "output_type": "display_data"
    }
   ],
   "source": [
    "fig = plt.gcf()\n",
    "fig.set_size_inches( 11, 7)\n",
    "print ('Average of Refund to customers who did not Churn later on i.e Churn =0 is '+ str(df[df['Churn']==0]['Store_Revenue_Refund_TP1'].mean()))\n",
    "print ('Average of Refund to customers who Churned later on i.e Churn =1 is '+ str(df[df['Churn']==1]['Store_Revenue_Refund_TP1'].mean()))\n",
    "sns.boxplot(x='Churn', y='Store_Revenue_Refund_TP1' , data=df)"
   ]
  },
  {
   "cell_type": "markdown",
   "metadata": {},
   "source": [
    "### Scatter Plots - Revenue vs Quantity\n",
    "The scatter plot shows higher concentration of churn in the lower left quadrant indicating low engagement"
   ]
  },
  {
   "cell_type": "code",
   "execution_count": 49,
   "metadata": {},
   "outputs": [
    {
     "data": {
      "image/png": "[encoded data removed]",
      "text/plain": [
       "<Figure size 792x504 with 1 Axes>"
      ]
     },
     "metadata": {
      "needs_background": "light"
     },
     "output_type": "display_data"
    }
   ],
   "source": [
    " fig = plt.gcf()\n",
    "fig.set_size_inches( 11, 7)\n",
    "ax = sns.scatterplot(x=\"Store_Product_Quantity_TP1\", y=\"Store_Revenue_TP1\",hue='Churn',data=df[df['Store_Product_Quantity_TP1']<100])"
   ]
  },
  {
   "cell_type": "markdown",
   "metadata": {},
   "source": [
    "### Correlation"
   ]
  },
  {
   "cell_type": "code",
   "execution_count": 50,
   "metadata": {},
   "outputs": [
    {
     "data": {
      "text/plain": [
       "<matplotlib.axes._subplots.AxesSubplot at 0x7f1cfecbdba8>"
      ]
     },
     "execution_count": 50,
     "metadata": {},
     "output_type": "execute_result"
    },
    {
     "data": {
      "image/png": "[encoded data removed]",
      "text/plain": [
       "<Figure size 576x576 with 2 Axes>"
      ]
     },
     "metadata": {
      "needs_background": "light"
     },
     "output_type": "display_data"
    }
   ],
   "source": [
    "plt.figure(figsize=(8,8))\n",
    "sns.heatmap(df.drop(['Churn','Store_Orders_Placed_TP1','Store_Orders_Placed_TP2', 'Store_Revenue_TP1','Store_Revenue_TP2',\n",
    "                     'Store_Product_Quantity_TP1','Store_Product_Quantity_TP2','Store_Orders_Returned_TP1', 'Store_Orders_Returned_TP2',\n",
    "                     'Store_Revenue_Refund_TP1','Store_Revenue_Refund_TP2', 'Store_Product_Quantity_Returned_TP1',\n",
    "                     'Store_Product_Quantity_Returned_TP2'],axis=1).corr(), annot = True)"
   ]
  },
  {
   "cell_type": "code",
   "execution_count": 52,
   "metadata": {
    "scrolled": true
   },
   "outputs": [
    {
     "name": "stdout",
     "output_type": "stream",
     "text": [
      "STORE_ORDERS_PLACED Distribution: \n",
      "1.0        0.048364\n",
      "4.0        0.035562\n",
      "5.0        0.028450\n",
      "2.0        0.028450\n",
      "9.0        0.025605\n",
      "8.0        0.024182\n",
      "13.0       0.021337\n",
      "6.0        0.021337\n",
      "7.0        0.019915\n",
      "3.0        0.019915\n",
      "12.0       0.018492\n",
      "22.0       0.015647\n",
      "23.0       0.014225\n",
      "11.0       0.012802\n",
      "26.0       0.012802\n",
      "17.0       0.012802\n",
      "40.0       0.011380\n",
      "35.0       0.011380\n",
      "19.0       0.011380\n",
      "14.0       0.009957\n",
      "46.0       0.009957\n",
      "18.0       0.009957\n",
      "10.0       0.009957\n",
      "62.0       0.008535\n",
      "27.0       0.008535\n",
      "15.0       0.008535\n",
      "28.0       0.008535\n",
      "43.0       0.007112\n",
      "45.0       0.007112\n",
      "34.0       0.007112\n",
      "             ...   \n",
      "316.0      0.001422\n",
      "328.0      0.001422\n",
      "396.0      0.001422\n",
      "148.0      0.001422\n",
      "320.0      0.001422\n",
      "166.0      0.001422\n",
      "536.0      0.001422\n",
      "2036.0     0.001422\n",
      "263.0      0.001422\n",
      "906.0      0.001422\n",
      "271.0      0.001422\n",
      "954.0      0.001422\n",
      "347.0      0.001422\n",
      "541.0      0.001422\n",
      "289.0      0.001422\n",
      "4650.0     0.001422\n",
      "43083.0    0.001422\n",
      "125.0      0.001422\n",
      "99.0       0.001422\n",
      "182.0      0.001422\n",
      "69.0       0.001422\n",
      "192.0      0.001422\n",
      "41.0       0.001422\n",
      "172.0      0.001422\n",
      "244.0      0.001422\n",
      "520.0      0.001422\n",
      "91.0       0.001422\n",
      "134.0      0.001422\n",
      "111.0      0.001422\n",
      "247.0      0.001422\n",
      "Name: Store_Orders_Placed, Length: 243, dtype: float64\n",
      "\n",
      "FIRST_ORDER_DATE Distribution: \n",
      "2018-09-05    0.081081\n",
      "2018-09-04    0.079659\n",
      "2018-09-06    0.055477\n",
      "2018-09-11    0.048364\n",
      "2018-09-07    0.048364\n",
      "2018-09-13    0.042674\n",
      "2018-09-10    0.041252\n",
      "2018-09-12    0.035562\n",
      "2018-09-14    0.024182\n",
      "2018-09-20    0.019915\n",
      "2018-09-28    0.017070\n",
      "2018-09-17    0.017070\n",
      "2018-09-18    0.017070\n",
      "2018-09-21    0.014225\n",
      "2018-10-12    0.012802\n",
      "2018-10-02    0.012802\n",
      "2018-09-19    0.012802\n",
      "2018-09-24    0.011380\n",
      "2018-09-25    0.011380\n",
      "2018-10-24    0.011380\n",
      "2018-10-19    0.011380\n",
      "2018-10-22    0.008535\n",
      "2018-09-27    0.008535\n",
      "2018-10-05    0.008535\n",
      "2018-09-26    0.007112\n",
      "2018-11-14    0.007112\n",
      "2018-11-20    0.007112\n",
      "2018-12-03    0.005690\n",
      "2018-10-04    0.005690\n",
      "2018-11-05    0.005690\n",
      "                ...   \n",
      "2018-12-27    0.001422\n",
      "2018-12-10    0.001422\n",
      "2018-10-09    0.001422\n",
      "2019-01-07    0.001422\n",
      "2019-07-25    0.001422\n",
      "2019-04-09    0.001422\n",
      "2019-05-09    0.001422\n",
      "2019-06-27    0.001422\n",
      "2018-12-19    0.001422\n",
      "2018-10-18    0.001422\n",
      "2019-04-05    0.001422\n",
      "2019-05-03    0.001422\n",
      "2019-06-17    0.001422\n",
      "2019-04-16    0.001422\n",
      "2019-02-13    0.001422\n",
      "2019-08-12    0.001422\n",
      "2019-02-07    0.001422\n",
      "2018-12-07    0.001422\n",
      "2019-01-21    0.001422\n",
      "2019-06-25    0.001422\n",
      "2019-03-07    0.001422\n",
      "2019-08-23    0.001422\n",
      "2019-02-18    0.001422\n",
      "2018-12-18    0.001422\n",
      "2019-08-06    0.001422\n",
      "2019-05-02    0.001422\n",
      "2019-04-15    0.001422\n",
      "2019-07-31    0.001422\n",
      "2019-08-28    0.001422\n",
      "2018-12-21    0.001422\n",
      "Name: First_Order_Date, Length: 159, dtype: float64\n",
      "\n",
      "LAST_ORDER_DATE Distribution: \n",
      "2019-09-24    0.092461\n",
      "2019-09-20    0.066856\n",
      "2019-09-23    0.061166\n",
      "2019-09-19    0.045519\n",
      "2019-09-18    0.036984\n",
      "2019-09-17    0.032717\n",
      "2019-09-11    0.032717\n",
      "2019-09-13    0.024182\n",
      "2019-09-16    0.022760\n",
      "2019-09-12    0.021337\n",
      "2019-09-06    0.021337\n",
      "2019-09-09    0.021337\n",
      "2019-08-27    0.015647\n",
      "2019-09-04    0.014225\n",
      "2019-08-30    0.012802\n",
      "2019-08-07    0.012802\n",
      "2019-08-16    0.011380\n",
      "2019-09-10    0.011380\n",
      "2019-08-28    0.011380\n",
      "2019-08-21    0.011380\n",
      "2019-09-03    0.011380\n",
      "2019-08-23    0.009957\n",
      "2019-08-14    0.009957\n",
      "2019-08-22    0.009957\n",
      "2019-08-20    0.008535\n",
      "2019-08-29    0.008535\n",
      "2019-08-02    0.008535\n",
      "2019-07-31    0.008535\n",
      "2019-07-24    0.007112\n",
      "2019-07-26    0.007112\n",
      "                ...   \n",
      "2019-06-14    0.001422\n",
      "2018-12-10    0.001422\n",
      "2019-03-27    0.001422\n",
      "2018-09-05    0.001422\n",
      "2019-07-08    0.001422\n",
      "2018-09-18    0.001422\n",
      "2019-06-10    0.001422\n",
      "2019-04-26    0.001422\n",
      "2018-10-29    0.001422\n",
      "2019-04-16    0.001422\n",
      "2018-10-12    0.001422\n",
      "2019-06-28    0.001422\n",
      "2018-10-23    0.001422\n",
      "2019-04-10    0.001422\n",
      "2019-02-07    0.001422\n",
      "2018-12-07    0.001422\n",
      "2018-11-20    0.001422\n",
      "2019-07-09    0.001422\n",
      "2019-03-07    0.001422\n",
      "2018-10-17    0.001422\n",
      "2019-06-05    0.001422\n",
      "2019-04-04    0.001422\n",
      "2019-01-15    0.001422\n",
      "2018-11-14    0.001422\n",
      "2019-05-02    0.001422\n",
      "2019-02-12    0.001422\n",
      "2019-03-29    0.001422\n",
      "2018-09-24    0.001422\n",
      "2019-05-13    0.001422\n",
      "2018-12-21    0.001422\n",
      "Name: Last_Order_Date, Length: 159, dtype: float64\n",
      "\n",
      "STORE_REVENUE Distribution: \n",
      "53.0       0.005690\n",
      "356.0      0.004267\n",
      "150.0      0.004267\n",
      "191.0      0.004267\n",
      "457.0      0.004267\n",
      "102.0      0.004267\n",
      "509.0      0.004267\n",
      "36.0       0.004267\n",
      "64.0       0.002845\n",
      "279.0      0.002845\n",
      "550.0      0.002845\n",
      "70.0       0.002845\n",
      "2322.0     0.002845\n",
      "738.0      0.002845\n",
      "101.0      0.002845\n",
      "1171.0     0.002845\n",
      "2245.0     0.002845\n",
      "7391.0     0.002845\n",
      "206.0      0.002845\n",
      "1023.0     0.002845\n",
      "342.0      0.002845\n",
      "261.0      0.002845\n",
      "616.0      0.002845\n",
      "213.0      0.002845\n",
      "716.0      0.002845\n",
      "482.0      0.002845\n",
      "1224.0     0.002845\n",
      "1407.0     0.002845\n",
      "1043.0     0.002845\n",
      "2009.0     0.002845\n",
      "             ...   \n",
      "189.0      0.001422\n",
      "1864.0     0.001422\n",
      "818.0      0.001422\n",
      "137.0      0.001422\n",
      "1736.0     0.001422\n",
      "3178.0     0.001422\n",
      "4364.0     0.001422\n",
      "293.0      0.001422\n",
      "11649.0    0.001422\n",
      "1239.0     0.001422\n",
      "155.0      0.001422\n",
      "20691.0    0.001422\n",
      "4733.0     0.001422\n",
      "2139.0     0.001422\n",
      "173.0      0.001422\n",
      "1160.0     0.001422\n",
      "326.0      0.001422\n",
      "426.0      0.001422\n",
      "6339.0     0.001422\n",
      "386.0      0.001422\n",
      "36728.0    0.001422\n",
      "1352.0     0.001422\n",
      "211.0      0.001422\n",
      "748.0      0.001422\n",
      "201.0      0.001422\n",
      "4597.0     0.001422\n",
      "2879.0     0.001422\n",
      "3353.0     0.001422\n",
      "8183.0     0.001422\n",
      "8889.0     0.001422\n",
      "Name: Store_Revenue, Length: 638, dtype: float64\n",
      "\n",
      "STORE_PRODUCT_QUANTITY Distribution: \n",
      "1.0        0.025605\n",
      "2.0        0.025605\n",
      "8.0        0.019915\n",
      "4.0        0.018492\n",
      "9.0        0.015647\n",
      "10.0       0.015647\n",
      "3.0        0.014225\n",
      "28.0       0.012802\n",
      "11.0       0.012802\n",
      "7.0        0.011380\n",
      "30.0       0.011380\n",
      "14.0       0.011380\n",
      "5.0        0.011380\n",
      "23.0       0.011380\n",
      "13.0       0.011380\n",
      "18.0       0.011380\n",
      "35.0       0.008535\n",
      "25.0       0.008535\n",
      "16.0       0.008535\n",
      "65.0       0.008535\n",
      "38.0       0.008535\n",
      "91.0       0.008535\n",
      "21.0       0.008535\n",
      "68.0       0.008535\n",
      "20.0       0.007112\n",
      "17.0       0.007112\n",
      "29.0       0.007112\n",
      "89.0       0.007112\n",
      "48.0       0.007112\n",
      "32.0       0.007112\n",
      "             ...   \n",
      "335.0      0.001422\n",
      "203.0      0.001422\n",
      "494.0      0.001422\n",
      "389.0      0.001422\n",
      "302.0      0.001422\n",
      "305.0      0.001422\n",
      "383.0      0.001422\n",
      "427.0      0.001422\n",
      "173.0      0.001422\n",
      "526.0      0.001422\n",
      "231.0      0.001422\n",
      "1781.0     0.001422\n",
      "10574.0    0.001422\n",
      "1043.0     0.001422\n",
      "563.0      0.001422\n",
      "419.0      0.001422\n",
      "457.0      0.001422\n",
      "291.0      0.001422\n",
      "2113.0     0.001422\n",
      "5428.0     0.001422\n",
      "9718.0     0.001422\n",
      "1127.0     0.001422\n",
      "1061.0     0.001422\n",
      "825.0      0.001422\n",
      "799.0      0.001422\n",
      "677.0      0.001422\n",
      "6121.0     0.001422\n",
      "9703.0     0.001422\n",
      "1391.0     0.001422\n",
      "456.0      0.001422\n",
      "Name: Store_Product_Quantity, Length: 328, dtype: float64\n",
      "\n",
      "STORE_ORDERS_PLACED_TP2 Distribution: \n",
      "0.0        0.142248\n",
      "2.0        0.051209\n",
      "3.0        0.041252\n",
      "1.0        0.032717\n",
      "4.0        0.032717\n",
      "6.0        0.028450\n",
      "5.0        0.028450\n",
      "11.0       0.025605\n",
      "9.0        0.022760\n",
      "12.0       0.021337\n",
      "22.0       0.021337\n",
      "8.0        0.021337\n",
      "15.0       0.021337\n",
      "7.0        0.017070\n",
      "10.0       0.017070\n",
      "17.0       0.017070\n",
      "13.0       0.017070\n",
      "14.0       0.015647\n",
      "16.0       0.014225\n",
      "39.0       0.011380\n",
      "21.0       0.011380\n",
      "36.0       0.011380\n",
      "20.0       0.009957\n",
      "37.0       0.009957\n",
      "19.0       0.009957\n",
      "18.0       0.008535\n",
      "30.0       0.008535\n",
      "27.0       0.008535\n",
      "31.0       0.008535\n",
      "28.0       0.007112\n",
      "             ...   \n",
      "418.0      0.001422\n",
      "169.0      0.001422\n",
      "219.0      0.001422\n",
      "7464.0     0.001422\n",
      "335.0      0.001422\n",
      "105.0      0.001422\n",
      "120.0      0.001422\n",
      "71.0       0.001422\n",
      "58.0       0.001422\n",
      "82.0       0.001422\n",
      "112.0      0.001422\n",
      "1157.0     0.001422\n",
      "125.0      0.001422\n",
      "130.0      0.001422\n",
      "230.0      0.001422\n",
      "103.0      0.001422\n",
      "110.0      0.001422\n",
      "162.0      0.001422\n",
      "86.0       0.001422\n",
      "77.0       0.001422\n",
      "45.0       0.001422\n",
      "200.0      0.001422\n",
      "19107.0    0.001422\n",
      "98.0       0.001422\n",
      "158.0      0.001422\n",
      "164.0      0.001422\n",
      "92.0       0.001422\n",
      "107.0      0.001422\n",
      "240.0      0.001422\n",
      "127.0      0.001422\n",
      "Name: Store_Orders_Placed_TP2, Length: 140, dtype: float64\n",
      "\n",
      "STORE_REVENUE_TP2 Distribution: \n",
      "0.0        0.143670\n",
      "36.0       0.008535\n",
      "124.0      0.005690\n",
      "53.0       0.004267\n",
      "51.0       0.004267\n",
      "1157.0     0.004267\n",
      "943.0      0.004267\n",
      "795.0      0.002845\n",
      "448.0      0.002845\n",
      "562.0      0.002845\n",
      "106.0      0.002845\n",
      "219.0      0.002845\n",
      "82.0       0.002845\n",
      "421.0      0.002845\n",
      "238.0      0.002845\n",
      "433.0      0.002845\n",
      "126.0      0.002845\n",
      "148.0      0.002845\n",
      "211.0      0.002845\n",
      "264.0      0.002845\n",
      "737.0      0.002845\n",
      "88.0       0.002845\n",
      "120.0      0.002845\n",
      "237.0      0.002845\n",
      "93.0       0.002845\n",
      "26.0       0.002845\n",
      "56.0       0.002845\n",
      "697.0      0.002845\n",
      "259.0      0.002845\n",
      "80.0       0.002845\n",
      "             ...   \n",
      "1048.0     0.001422\n",
      "322.0      0.001422\n",
      "722.0      0.001422\n",
      "410.0      0.001422\n",
      "358.0      0.001422\n",
      "339.0      0.001422\n",
      "879.0      0.001422\n",
      "319.0      0.001422\n",
      "684.0      0.001422\n",
      "27948.0    0.001422\n",
      "403.0      0.001422\n",
      "692.0      0.001422\n",
      "306.0      0.001422\n",
      "790.0      0.001422\n",
      "161.0      0.001422\n",
      "868.0      0.001422\n",
      "558.0      0.001422\n",
      "249.0      0.001422\n",
      "892.0      0.001422\n",
      "602.0      0.001422\n",
      "502.0      0.001422\n",
      "1729.0     0.001422\n",
      "2965.0     0.001422\n",
      "1451.0     0.001422\n",
      "1341.0     0.001422\n",
      "10428.0    0.001422\n",
      "149.0      0.001422\n",
      "1225.0     0.001422\n",
      "377.0      0.001422\n",
      "432.0      0.001422\n",
      "Name: Store_Revenue_TP2, Length: 538, dtype: float64\n",
      "\n",
      "STORE_PRODUCT_QUANTITY_TP2 Distribution: \n",
      "0.0        0.142248\n",
      "2.0        0.035562\n",
      "4.0        0.027027\n",
      "5.0        0.019915\n",
      "12.0       0.017070\n",
      "3.0        0.017070\n",
      "6.0        0.017070\n",
      "11.0       0.017070\n",
      "22.0       0.015647\n",
      "16.0       0.015647\n",
      "9.0        0.015647\n",
      "7.0        0.014225\n",
      "20.0       0.014225\n",
      "23.0       0.014225\n",
      "31.0       0.014225\n",
      "30.0       0.012802\n",
      "24.0       0.012802\n",
      "8.0        0.011380\n",
      "25.0       0.011380\n",
      "29.0       0.011380\n",
      "14.0       0.011380\n",
      "10.0       0.009957\n",
      "18.0       0.009957\n",
      "1.0        0.009957\n",
      "44.0       0.009957\n",
      "26.0       0.009957\n",
      "15.0       0.009957\n",
      "69.0       0.008535\n",
      "54.0       0.008535\n",
      "17.0       0.008535\n",
      "             ...   \n",
      "84.0       0.001422\n",
      "613.0      0.001422\n",
      "68.0       0.001422\n",
      "121.0      0.001422\n",
      "111.0      0.001422\n",
      "27.0       0.001422\n",
      "128.0      0.001422\n",
      "166.0      0.001422\n",
      "457.0      0.001422\n",
      "1217.0     0.001422\n",
      "3467.0     0.001422\n",
      "1506.0     0.001422\n",
      "787.0      0.001422\n",
      "32204.0    0.001422\n",
      "317.0      0.001422\n",
      "271.0      0.001422\n",
      "365.0      0.001422\n",
      "614.0      0.001422\n",
      "431.0      0.001422\n",
      "92.0       0.001422\n",
      "313.0      0.001422\n",
      "1250.0     0.001422\n",
      "501.0      0.001422\n",
      "1963.0     0.001422\n",
      "220.0      0.001422\n",
      "48.0       0.001422\n",
      "224.0      0.001422\n",
      "178.0      0.001422\n",
      "976.0      0.001422\n",
      "234.0      0.001422\n",
      "Name: Store_Product_Quantity_TP2, Length: 220, dtype: float64\n",
      "\n",
      "STORE_ORDERS_RETURNED Distribution: \n",
      "0.0       0.412518\n",
      "1.0       0.147937\n",
      "2.0       0.075391\n",
      "3.0       0.064011\n",
      "4.0       0.039829\n",
      "5.0       0.036984\n",
      "6.0       0.029872\n",
      "8.0       0.022760\n",
      "7.0       0.017070\n",
      "11.0      0.015647\n",
      "13.0      0.012802\n",
      "9.0       0.008535\n",
      "10.0      0.008535\n",
      "14.0      0.008535\n",
      "21.0      0.008535\n",
      "18.0      0.008535\n",
      "19.0      0.007112\n",
      "15.0      0.007112\n",
      "36.0      0.005690\n",
      "12.0      0.005690\n",
      "25.0      0.004267\n",
      "41.0      0.002845\n",
      "55.0      0.002845\n",
      "29.0      0.002845\n",
      "23.0      0.002845\n",
      "16.0      0.002845\n",
      "17.0      0.002845\n",
      "44.0      0.002845\n",
      "26.0      0.001422\n",
      "257.0     0.001422\n",
      "28.0      0.001422\n",
      "101.0     0.001422\n",
      "20.0      0.001422\n",
      "27.0      0.001422\n",
      "42.0      0.001422\n",
      "76.0      0.001422\n",
      "43.0      0.001422\n",
      "32.0      0.001422\n",
      "48.0      0.001422\n",
      "47.0      0.001422\n",
      "1080.0    0.001422\n",
      "49.0      0.001422\n",
      "64.0      0.001422\n",
      "24.0      0.001422\n",
      "95.0      0.001422\n",
      "62.0      0.001422\n",
      "30.0      0.001422\n",
      "37.0      0.001422\n",
      "39.0      0.001422\n",
      "78.0      0.001422\n",
      "314.0     0.001422\n",
      "Name: Store_Orders_Returned, dtype: float64\n",
      "\n",
      "FIRST_RETURN_DATE Distribution: \n",
      "2018-09-04    0.043584\n",
      "2018-09-07    0.036320\n",
      "2018-09-12    0.031477\n",
      "2018-09-05    0.026634\n",
      "2018-09-06    0.026634\n",
      "2018-09-10    0.024213\n",
      "2018-09-11    0.019370\n",
      "2018-09-17    0.019370\n",
      "2018-12-12    0.016949\n",
      "2018-12-05    0.016949\n",
      "2018-09-13    0.016949\n",
      "2018-10-03    0.014528\n",
      "2018-09-20    0.014528\n",
      "2018-11-07    0.014528\n",
      "2018-11-30    0.014528\n",
      "2018-09-28    0.012107\n",
      "2018-10-24    0.012107\n",
      "2018-10-22    0.012107\n",
      "2018-09-18    0.012107\n",
      "2018-11-08    0.009685\n",
      "2018-12-07    0.009685\n",
      "2018-10-12    0.009685\n",
      "2018-09-21    0.009685\n",
      "2018-10-04    0.009685\n",
      "2018-10-29    0.009685\n",
      "2018-10-11    0.007264\n",
      "2018-11-19    0.007264\n",
      "2018-10-05    0.007264\n",
      "2019-07-25    0.007264\n",
      "2019-09-05    0.007264\n",
      "                ...   \n",
      "2019-06-14    0.002421\n",
      "2019-03-27    0.002421\n",
      "2019-01-24    0.002421\n",
      "2018-12-21    0.002421\n",
      "2018-12-17    0.002421\n",
      "2019-08-07    0.002421\n",
      "2019-07-26    0.002421\n",
      "2018-10-01    0.002421\n",
      "2019-01-16    0.002421\n",
      "2019-02-13    0.002421\n",
      "2018-12-13    0.002421\n",
      "2019-08-01    0.002421\n",
      "2018-11-26    0.002421\n",
      "2019-07-15    0.002421\n",
      "2018-11-09    0.002421\n",
      "2019-08-29    0.002421\n",
      "2019-04-10    0.002421\n",
      "2019-01-04    0.002421\n",
      "2018-11-02    0.002421\n",
      "2019-03-01    0.002421\n",
      "2019-02-12    0.002421\n",
      "2019-05-30    0.002421\n",
      "2019-03-29    0.002421\n",
      "2018-09-24    0.002421\n",
      "2019-05-13    0.002421\n",
      "2019-01-09    0.002421\n",
      "2019-02-06    0.002421\n",
      "2019-05-24    0.002421\n",
      "2019-03-06    0.002421\n",
      "2018-12-04    0.002421\n",
      "Name: First_Return_Date, Length: 165, dtype: float64\n",
      "\n",
      "LAST_RETURN_DATE Distribution: \n",
      "2019-09-19    0.033898\n",
      "2019-09-20    0.031477\n",
      "2019-09-24    0.029056\n",
      "2019-09-11    0.019370\n",
      "2019-09-12    0.016949\n",
      "2019-09-18    0.016949\n",
      "2019-09-03    0.014528\n",
      "2019-08-28    0.014528\n",
      "2019-09-23    0.014528\n",
      "2019-09-13    0.014528\n",
      "2019-07-26    0.014528\n",
      "2019-07-22    0.014528\n",
      "2019-09-05    0.014528\n",
      "2019-09-16    0.012107\n",
      "2019-06-25    0.012107\n",
      "2019-08-01    0.012107\n",
      "2019-08-09    0.012107\n",
      "2019-08-07    0.009685\n",
      "2019-08-06    0.009685\n",
      "2019-09-04    0.009685\n",
      "2019-08-22    0.009685\n",
      "2019-06-05    0.009685\n",
      "2019-07-10    0.009685\n",
      "2019-07-25    0.009685\n",
      "2019-08-30    0.009685\n",
      "2019-09-06    0.009685\n",
      "2018-09-05    0.009685\n",
      "2019-07-23    0.009685\n",
      "2019-08-02    0.009685\n",
      "2018-10-25    0.009685\n",
      "                ...   \n",
      "2019-07-08    0.002421\n",
      "2019-05-07    0.002421\n",
      "2019-03-06    0.002421\n",
      "2019-01-31    0.002421\n",
      "2019-01-08    0.002421\n",
      "2018-09-19    0.002421\n",
      "2018-11-20    0.002421\n",
      "2019-08-27    0.002421\n",
      "2018-11-21    0.002421\n",
      "2019-05-23    0.002421\n",
      "2019-03-08    0.002421\n",
      "2018-12-19    0.002421\n",
      "2019-02-05    0.002421\n",
      "2019-04-05    0.002421\n",
      "2019-05-20    0.002421\n",
      "2018-10-16    0.002421\n",
      "2019-01-16    0.002421\n",
      "2019-05-03    0.002421\n",
      "2019-06-17    0.002421\n",
      "2018-10-12    0.002421\n",
      "2019-04-25    0.002421\n",
      "2019-05-31    0.002421\n",
      "2018-11-26    0.002421\n",
      "2019-05-14    0.002421\n",
      "2019-01-10    0.002421\n",
      "2019-06-26    0.002421\n",
      "2019-06-11    0.002421\n",
      "2019-02-07    0.002421\n",
      "2018-12-07    0.002421\n",
      "2019-02-21    0.002421\n",
      "Name: Last_Return_Date, Length: 174, dtype: float64\n",
      "\n",
      "STORE_REVENUE_REFUND Distribution: \n",
      "0.0        0.413940\n",
      "114.0      0.008535\n",
      "8.0        0.008535\n",
      "11.0       0.007112\n",
      "12.0       0.007112\n",
      "26.0       0.007112\n",
      "19.0       0.005690\n",
      "18.0       0.005690\n",
      "36.0       0.005690\n",
      "72.0       0.005690\n",
      "45.0       0.005690\n",
      "31.0       0.005690\n",
      "22.0       0.005690\n",
      "6.0        0.005690\n",
      "98.0       0.004267\n",
      "96.0       0.004267\n",
      "153.0      0.004267\n",
      "20.0       0.004267\n",
      "25.0       0.004267\n",
      "28.0       0.004267\n",
      "77.0       0.004267\n",
      "21.0       0.004267\n",
      "135.0      0.004267\n",
      "81.0       0.004267\n",
      "41.0       0.004267\n",
      "33.0       0.004267\n",
      "95.0       0.004267\n",
      "49.0       0.004267\n",
      "43.0       0.004267\n",
      "79.0       0.004267\n",
      "             ...   \n",
      "141.0      0.001422\n",
      "894.0      0.001422\n",
      "286.0      0.001422\n",
      "163.0      0.001422\n",
      "707.0      0.001422\n",
      "427.0      0.001422\n",
      "466.0      0.001422\n",
      "628.0      0.001422\n",
      "351.0      0.001422\n",
      "334.0      0.001422\n",
      "895.0      0.001422\n",
      "409.0      0.001422\n",
      "221.0      0.001422\n",
      "1803.0     0.001422\n",
      "1445.0     0.001422\n",
      "547.0      0.001422\n",
      "557.0      0.001422\n",
      "2490.0     0.001422\n",
      "647.0      0.001422\n",
      "817.0      0.001422\n",
      "1847.0     0.001422\n",
      "1622.0     0.001422\n",
      "1037.0     0.001422\n",
      "18026.0    0.001422\n",
      "1388.0     0.001422\n",
      "395.0      0.001422\n",
      "638.0      0.001422\n",
      "990.0      0.001422\n",
      "329.0      0.001422\n",
      "201.0      0.001422\n",
      "Name: Store_Revenue_Refund, Length: 281, dtype: float64\n",
      "\n",
      "STORE_PRODUCT_QUANTITY_RETURNED Distribution: \n",
      "0.0       0.412518\n",
      "1.0       0.095306\n",
      "2.0       0.064011\n",
      "3.0       0.041252\n",
      "4.0       0.039829\n",
      "5.0       0.034139\n",
      "6.0       0.024182\n",
      "9.0       0.017070\n",
      "17.0      0.012802\n",
      "8.0       0.012802\n",
      "7.0       0.012802\n",
      "13.0      0.011380\n",
      "12.0      0.011380\n",
      "26.0      0.009957\n",
      "11.0      0.009957\n",
      "10.0      0.007112\n",
      "18.0      0.007112\n",
      "19.0      0.007112\n",
      "30.0      0.007112\n",
      "22.0      0.005690\n",
      "43.0      0.005690\n",
      "20.0      0.005690\n",
      "14.0      0.005690\n",
      "23.0      0.005690\n",
      "24.0      0.004267\n",
      "52.0      0.004267\n",
      "15.0      0.004267\n",
      "28.0      0.004267\n",
      "77.0      0.002845\n",
      "111.0     0.002845\n",
      "            ...   \n",
      "112.0     0.001422\n",
      "64.0      0.001422\n",
      "667.0     0.001422\n",
      "165.0     0.001422\n",
      "145.0     0.001422\n",
      "133.0     0.001422\n",
      "390.0     0.001422\n",
      "211.0     0.001422\n",
      "191.0     0.001422\n",
      "733.0     0.001422\n",
      "39.0      0.001422\n",
      "31.0      0.001422\n",
      "34.0      0.001422\n",
      "46.0      0.001422\n",
      "104.0     0.001422\n",
      "62.0      0.001422\n",
      "2571.0    0.001422\n",
      "65.0      0.001422\n",
      "33.0      0.001422\n",
      "76.0      0.001422\n",
      "140.0     0.001422\n",
      "292.0     0.001422\n",
      "29.0      0.001422\n",
      "134.0     0.001422\n",
      "87.0      0.001422\n",
      "56.0      0.001422\n",
      "35.0      0.001422\n",
      "38.0      0.001422\n",
      "107.0     0.001422\n",
      "47.0      0.001422\n",
      "Name: Store_Product_Quantity_Returned, Length: 91, dtype: float64\n",
      "\n",
      "STORE_ORDERS_RETURNED_TP1 Distribution: \n",
      "0.0      0.527738\n",
      "1.0      0.120910\n",
      "2.0      0.085349\n",
      "3.0      0.045519\n",
      "4.0      0.039829\n",
      "5.0      0.028450\n",
      "6.0      0.019915\n",
      "8.0      0.018492\n",
      "7.0      0.012802\n",
      "10.0     0.012802\n",
      "12.0     0.008535\n",
      "13.0     0.008535\n",
      "14.0     0.007112\n",
      "9.0      0.007112\n",
      "16.0     0.005690\n",
      "21.0     0.004267\n",
      "11.0     0.004267\n",
      "23.0     0.004267\n",
      "24.0     0.002845\n",
      "15.0     0.002845\n",
      "45.0     0.002845\n",
      "22.0     0.002845\n",
      "19.0     0.002845\n",
      "20.0     0.002845\n",
      "53.0     0.001422\n",
      "31.0     0.001422\n",
      "29.0     0.001422\n",
      "28.0     0.001422\n",
      "26.0     0.001422\n",
      "27.0     0.001422\n",
      "33.0     0.001422\n",
      "25.0     0.001422\n",
      "168.0    0.001422\n",
      "63.0     0.001422\n",
      "39.0     0.001422\n",
      "55.0     0.001422\n",
      "650.0    0.001422\n",
      "17.0     0.001422\n",
      "183.0    0.001422\n",
      "Name: Store_Orders_Returned_TP1, dtype: float64\n",
      "\n",
      "STORE_ORDERS_RETURNED_TP2 Distribution: \n",
      "0.0      0.563300\n",
      "1.0      0.160740\n",
      "2.0      0.064011\n",
      "3.0      0.056899\n",
      "4.0      0.029872\n",
      "5.0      0.029872\n",
      "6.0      0.021337\n",
      "7.0      0.008535\n",
      "15.0     0.007112\n",
      "8.0      0.007112\n",
      "13.0     0.005690\n",
      "10.0     0.005690\n",
      "12.0     0.005690\n",
      "11.0     0.004267\n",
      "16.0     0.004267\n",
      "23.0     0.002845\n",
      "27.0     0.002845\n",
      "22.0     0.002845\n",
      "54.0     0.001422\n",
      "48.0     0.001422\n",
      "14.0     0.001422\n",
      "26.0     0.001422\n",
      "18.0     0.001422\n",
      "89.0     0.001422\n",
      "17.0     0.001422\n",
      "19.0     0.001422\n",
      "32.0     0.001422\n",
      "34.0     0.001422\n",
      "430.0    0.001422\n",
      "131.0    0.001422\n",
      "Name: Store_Orders_Returned_TP2, dtype: float64\n",
      "\n",
      "STORE_REVENUE_REFUND_TP1 Distribution: \n",
      "0.0        0.530583\n",
      "8.0        0.011380\n",
      "12.0       0.009957\n",
      "72.0       0.008535\n",
      "16.0       0.007112\n",
      "48.0       0.005690\n",
      "21.0       0.005690\n",
      "36.0       0.005690\n",
      "47.0       0.005690\n",
      "45.0       0.004267\n",
      "18.0       0.004267\n",
      "83.0       0.004267\n",
      "31.0       0.004267\n",
      "53.0       0.004267\n",
      "19.0       0.004267\n",
      "69.0       0.004267\n",
      "49.0       0.004267\n",
      "34.0       0.004267\n",
      "26.0       0.004267\n",
      "28.0       0.004267\n",
      "54.0       0.004267\n",
      "10.0       0.004267\n",
      "22.0       0.004267\n",
      "817.0      0.002845\n",
      "132.0      0.002845\n",
      "25.0       0.002845\n",
      "141.0      0.002845\n",
      "43.0       0.002845\n",
      "216.0      0.002845\n",
      "370.0      0.002845\n",
      "             ...   \n",
      "57.0       0.001422\n",
      "936.0      0.001422\n",
      "784.0      0.001422\n",
      "647.0      0.001422\n",
      "41.0       0.001422\n",
      "37.0       0.001422\n",
      "578.0      0.001422\n",
      "540.0      0.001422\n",
      "489.0      0.001422\n",
      "390.0      0.001422\n",
      "1199.0     0.001422\n",
      "28130.0    0.001422\n",
      "551.0      0.001422\n",
      "531.0      0.001422\n",
      "1085.0     0.001422\n",
      "1652.0     0.001422\n",
      "351.0      0.001422\n",
      "463.0      0.001422\n",
      "592.0      0.001422\n",
      "449.0      0.001422\n",
      "287.0      0.001422\n",
      "1556.0     0.001422\n",
      "1014.0     0.001422\n",
      "6808.0     0.001422\n",
      "441.0      0.001422\n",
      "427.0      0.001422\n",
      "657.0      0.001422\n",
      "810.0      0.001422\n",
      "664.0      0.001422\n",
      "107.0      0.001422\n",
      "Name: Store_Revenue_Refund_TP1, Length: 226, dtype: float64\n",
      "\n",
      "STORE_REVENUE_REFUND_TP2 Distribution: \n",
      "0.0       0.564723\n",
      "36.0      0.012802\n",
      "18.0      0.008535\n",
      "6.0       0.008535\n",
      "42.0      0.007112\n",
      "33.0      0.007112\n",
      "13.0      0.005690\n",
      "11.0      0.005690\n",
      "22.0      0.005690\n",
      "24.0      0.005690\n",
      "8.0       0.005690\n",
      "2.0       0.005690\n",
      "64.0      0.005690\n",
      "12.0      0.005690\n",
      "139.0     0.004267\n",
      "97.0      0.004267\n",
      "149.0     0.004267\n",
      "77.0      0.004267\n",
      "45.0      0.004267\n",
      "50.0      0.004267\n",
      "68.0      0.004267\n",
      "72.0      0.004267\n",
      "66.0      0.004267\n",
      "49.0      0.004267\n",
      "37.0      0.004267\n",
      "55.0      0.004267\n",
      "43.0      0.004267\n",
      "5.0       0.004267\n",
      "54.0      0.004267\n",
      "41.0      0.004267\n",
      "            ...   \n",
      "17.0      0.001422\n",
      "67.0      0.001422\n",
      "615.0     0.001422\n",
      "19.0      0.001422\n",
      "119.0     0.001422\n",
      "240.0     0.001422\n",
      "84.0      0.001422\n",
      "76.0      0.001422\n",
      "150.0     0.001422\n",
      "28.0      0.001422\n",
      "246.0     0.001422\n",
      "224.0     0.001422\n",
      "838.0     0.001422\n",
      "313.0     0.001422\n",
      "311.0     0.001422\n",
      "325.0     0.001422\n",
      "335.0     0.001422\n",
      "349.0     0.001422\n",
      "1404.0    0.001422\n",
      "293.0     0.001422\n",
      "355.0     0.001422\n",
      "721.0     0.001422\n",
      "401.0     0.001422\n",
      "4842.0    0.001422\n",
      "1290.0    0.001422\n",
      "635.0     0.001422\n",
      "993.0     0.001422\n",
      "25.0      0.001422\n",
      "216.0     0.001422\n",
      "138.0     0.001422\n",
      "Name: Store_Revenue_Refund_TP2, Length: 186, dtype: float64\n",
      "\n",
      "STORE_PRODUCT_QUANTITY_RETURNED_TP1 Distribution: \n",
      "0.0       0.527738\n",
      "1.0       0.082504\n",
      "2.0       0.069701\n",
      "3.0       0.032717\n",
      "4.0       0.031294\n",
      "5.0       0.022760\n",
      "8.0       0.018492\n",
      "7.0       0.012802\n",
      "12.0      0.011380\n",
      "6.0       0.011380\n",
      "17.0      0.009957\n",
      "9.0       0.009957\n",
      "18.0      0.008535\n",
      "13.0      0.008535\n",
      "11.0      0.008535\n",
      "10.0      0.007112\n",
      "22.0      0.005690\n",
      "26.0      0.004267\n",
      "16.0      0.004267\n",
      "27.0      0.004267\n",
      "23.0      0.004267\n",
      "31.0      0.004267\n",
      "65.0      0.004267\n",
      "69.0      0.004267\n",
      "30.0      0.004267\n",
      "20.0      0.004267\n",
      "44.0      0.004267\n",
      "37.0      0.002845\n",
      "14.0      0.002845\n",
      "21.0      0.002845\n",
      "            ...   \n",
      "25.0      0.001422\n",
      "105.0     0.001422\n",
      "75.0      0.001422\n",
      "53.0      0.001422\n",
      "42.0      0.001422\n",
      "35.0      0.001422\n",
      "40.0      0.001422\n",
      "58.0      0.001422\n",
      "87.0      0.001422\n",
      "76.0      0.001422\n",
      "384.0     0.001422\n",
      "47.0      0.001422\n",
      "67.0      0.001422\n",
      "84.0      0.001422\n",
      "33.0      0.001422\n",
      "29.0      0.001422\n",
      "1593.0    0.001422\n",
      "52.0      0.001422\n",
      "66.0      0.001422\n",
      "41.0      0.001422\n",
      "210.0     0.001422\n",
      "158.0     0.001422\n",
      "59.0      0.001422\n",
      "24.0      0.001422\n",
      "260.0     0.001422\n",
      "118.0     0.001422\n",
      "178.0     0.001422\n",
      "122.0     0.001422\n",
      "63.0      0.001422\n",
      "474.0     0.001422\n",
      "Name: Store_Product_Quantity_Returned_TP1, Length: 72, dtype: float64\n",
      "\n",
      "STORE_PRODUCT_QUANTITY_RETURNED_TP2 Distribution: \n",
      "0.0      0.563300\n",
      "1.0      0.109531\n",
      "2.0      0.041252\n",
      "6.0      0.032717\n",
      "4.0      0.029872\n",
      "3.0      0.028450\n",
      "7.0      0.019915\n",
      "5.0      0.017070\n",
      "9.0      0.012802\n",
      "16.0     0.009957\n",
      "8.0      0.009957\n",
      "10.0     0.009957\n",
      "11.0     0.007112\n",
      "14.0     0.007112\n",
      "13.0     0.005690\n",
      "12.0     0.005690\n",
      "18.0     0.005690\n",
      "15.0     0.004267\n",
      "35.0     0.004267\n",
      "27.0     0.004267\n",
      "20.0     0.004267\n",
      "21.0     0.004267\n",
      "36.0     0.004267\n",
      "26.0     0.002845\n",
      "53.0     0.002845\n",
      "33.0     0.002845\n",
      "40.0     0.002845\n",
      "23.0     0.002845\n",
      "25.0     0.002845\n",
      "67.0     0.002845\n",
      "38.0     0.002845\n",
      "50.0     0.001422\n",
      "64.0     0.001422\n",
      "91.0     0.001422\n",
      "31.0     0.001422\n",
      "39.0     0.001422\n",
      "100.0    0.001422\n",
      "48.0     0.001422\n",
      "116.0    0.001422\n",
      "978.0    0.001422\n",
      "60.0     0.001422\n",
      "61.0     0.001422\n",
      "97.0     0.001422\n",
      "28.0     0.001422\n",
      "17.0     0.001422\n",
      "130.0    0.001422\n",
      "57.0     0.001422\n",
      "76.0     0.001422\n",
      "72.0     0.001422\n",
      "68.0     0.001422\n",
      "283.0    0.001422\n",
      "105.0    0.001422\n",
      "34.0     0.001422\n",
      "88.0     0.001422\n",
      "82.0     0.001422\n",
      "259.0    0.001422\n",
      "Name: Store_Product_Quantity_Returned_TP2, dtype: float64\n",
      "\n"
     ]
    }
   ],
   "source": [
    "## printing out the value distribution for each variable in the dataset\n",
    "for x in df.columns:\n",
    "    # excluding certain columns (useless + numerical)\n",
    "    if (x != '_experienceplatform.acctnumber') & (x != 'Churn') & (x!='Store_Orders_Placed_TP1') & (x != 'Store_Revenue_TP1') & (x!='Store_Product_Quantity_TP1'):\n",
    "        print(\"{} Distribution: \\n{}\\n\".format(str(x).upper(), df[x].value_counts(normalize=True)))"
   ]
  },
  {
   "cell_type": "markdown",
   "metadata": {},
   "source": [
    "### Create dummy variables for categorical features like product category and price method"
   ]
  },
  {
   "cell_type": "code",
   "execution_count": 56,
   "metadata": {},
   "outputs": [],
   "source": [
    "cat_vars=['_experienceplatform.prodcategory',\n",
    "       '_experienceplatform.pricemethod']\n",
    "for var in cat_vars:\n",
    "    cat_list='var'+'_'+var\n",
    "    cat_list = pd.get_dummies(df0[var], prefix=var)\n",
    "    data1=df0.join(cat_list)\n",
    "    df0=data1\n",
    "data_vars=df0.columns.values.tolist()\n",
    "to_keep=[i for i in data_vars if i not in cat_vars]\n"
   ]
  },
  {
   "cell_type": "markdown",
   "metadata": {},
   "source": [
    "### Check for missing values in the data"
   ]
  },
  {
   "cell_type": "code",
   "execution_count": 61,
   "metadata": {},
   "outputs": [
    {
     "data": {
      "text/html": [
       "<div>\n",
       "<style scoped>\n",
       "    .dataframe tbody tr th:only-of-type {\n",
       "        vertical-align: middle;\n",
       "    }\n",
       "\n",
       "    .dataframe tbody tr th {\n",
       "        vertical-align: top;\n",
       "    }\n",
       "\n",
       "    .dataframe thead th {\n",
       "        text-align: right;\n",
       "    }\n",
       "</style>\n",
       "<table border=\"1\" class=\"dataframe\">\n",
       "  <thead>\n",
       "    <tr style=\"text-align: right;\">\n",
       "      <th></th>\n",
       "      <th>0</th>\n",
       "    </tr>\n",
       "  </thead>\n",
       "  <tbody>\n",
       "    <tr>\n",
       "      <th>_experienceplatform.acctnumber</th>\n",
       "      <td>0.000000</td>\n",
       "    </tr>\n",
       "    <tr>\n",
       "      <th>Store_Orders_Placed</th>\n",
       "      <td>0.000000</td>\n",
       "    </tr>\n",
       "    <tr>\n",
       "      <th>First_Order_Date</th>\n",
       "      <td>0.000000</td>\n",
       "    </tr>\n",
       "    <tr>\n",
       "      <th>Last_Order_Date</th>\n",
       "      <td>0.000000</td>\n",
       "    </tr>\n",
       "    <tr>\n",
       "      <th>Store_Revenue</th>\n",
       "      <td>0.000000</td>\n",
       "    </tr>\n",
       "    <tr>\n",
       "      <th>Store_Product_Quantity</th>\n",
       "      <td>0.000000</td>\n",
       "    </tr>\n",
       "    <tr>\n",
       "      <th>Store_Orders_Placed_TP1</th>\n",
       "      <td>0.000000</td>\n",
       "    </tr>\n",
       "    <tr>\n",
       "      <th>Store_Orders_Placed_TP2</th>\n",
       "      <td>0.000000</td>\n",
       "    </tr>\n",
       "    <tr>\n",
       "      <th>Store_Revenue_TP1</th>\n",
       "      <td>0.000000</td>\n",
       "    </tr>\n",
       "    <tr>\n",
       "      <th>Store_Revenue_TP2</th>\n",
       "      <td>0.000000</td>\n",
       "    </tr>\n",
       "    <tr>\n",
       "      <th>Store_Product_Quantity_TP1</th>\n",
       "      <td>0.000000</td>\n",
       "    </tr>\n",
       "    <tr>\n",
       "      <th>Store_Product_Quantity_TP2</th>\n",
       "      <td>0.000000</td>\n",
       "    </tr>\n",
       "    <tr>\n",
       "      <th>Store_Orders_Returned</th>\n",
       "      <td>0.000000</td>\n",
       "    </tr>\n",
       "    <tr>\n",
       "      <th>First_Return_Date</th>\n",
       "      <td>41.251778</td>\n",
       "    </tr>\n",
       "    <tr>\n",
       "      <th>Last_Return_Date</th>\n",
       "      <td>41.251778</td>\n",
       "    </tr>\n",
       "    <tr>\n",
       "      <th>Store_Revenue_Refund</th>\n",
       "      <td>0.000000</td>\n",
       "    </tr>\n",
       "    <tr>\n",
       "      <th>Store_Product_Quantity_Returned</th>\n",
       "      <td>0.000000</td>\n",
       "    </tr>\n",
       "    <tr>\n",
       "      <th>Store_Orders_Returned_TP1</th>\n",
       "      <td>0.000000</td>\n",
       "    </tr>\n",
       "    <tr>\n",
       "      <th>Store_Orders_Returned_TP2</th>\n",
       "      <td>0.000000</td>\n",
       "    </tr>\n",
       "    <tr>\n",
       "      <th>Store_Revenue_Refund_TP1</th>\n",
       "      <td>0.000000</td>\n",
       "    </tr>\n",
       "    <tr>\n",
       "      <th>Store_Revenue_Refund_TP2</th>\n",
       "      <td>0.000000</td>\n",
       "    </tr>\n",
       "    <tr>\n",
       "      <th>Store_Product_Quantity_Returned_TP1</th>\n",
       "      <td>0.000000</td>\n",
       "    </tr>\n",
       "    <tr>\n",
       "      <th>Store_Product_Quantity_Returned_TP2</th>\n",
       "      <td>0.000000</td>\n",
       "    </tr>\n",
       "    <tr>\n",
       "      <th>Churn</th>\n",
       "      <td>0.000000</td>\n",
       "    </tr>\n",
       "  </tbody>\n",
       "</table>\n",
       "</div>"
      ],
      "text/plain": [
       "                                             0\n",
       "_experienceplatform.acctnumber        0.000000\n",
       "Store_Orders_Placed                   0.000000\n",
       "First_Order_Date                      0.000000\n",
       "Last_Order_Date                       0.000000\n",
       "Store_Revenue                         0.000000\n",
       "Store_Product_Quantity                0.000000\n",
       "Store_Orders_Placed_TP1               0.000000\n",
       "Store_Orders_Placed_TP2               0.000000\n",
       "Store_Revenue_TP1                     0.000000\n",
       "Store_Revenue_TP2                     0.000000\n",
       "Store_Product_Quantity_TP1            0.000000\n",
       "Store_Product_Quantity_TP2            0.000000\n",
       "Store_Orders_Returned                 0.000000\n",
       "First_Return_Date                    41.251778\n",
       "Last_Return_Date                     41.251778\n",
       "Store_Revenue_Refund                  0.000000\n",
       "Store_Product_Quantity_Returned       0.000000\n",
       "Store_Orders_Returned_TP1             0.000000\n",
       "Store_Orders_Returned_TP2             0.000000\n",
       "Store_Revenue_Refund_TP1              0.000000\n",
       "Store_Revenue_Refund_TP2              0.000000\n",
       "Store_Product_Quantity_Returned_TP1   0.000000\n",
       "Store_Product_Quantity_Returned_TP2   0.000000\n",
       "Churn                                 0.000000"
      ]
     },
     "execution_count": 61,
     "metadata": {},
     "output_type": "execute_result"
    }
   ],
   "source": [
    "missing = pd.DataFrame(df_store.isnull().sum()*100/len(df_store))\n",
    "missing"
   ]
  },
  {
   "cell_type": "code",
   "execution_count": 62,
   "metadata": {},
   "outputs": [
    {
     "data": {
      "text/plain": [
       "_experienceplatform.acctnumber                 object\n",
       "Store_Orders_Placed                           float64\n",
       "First_Order_Date                       datetime64[ns]\n",
       "Last_Order_Date                        datetime64[ns]\n",
       "Store_Revenue                                 float64\n",
       "Store_Product_Quantity                        float64\n",
       "Store_Orders_Placed_TP1                       float64\n",
       "Store_Orders_Placed_TP2                       float64\n",
       "Store_Revenue_TP1                             float64\n",
       "Store_Revenue_TP2                             float64\n",
       "Store_Product_Quantity_TP1                    float64\n",
       "Store_Product_Quantity_TP2                    float64\n",
       "Store_Orders_Returned                         float64\n",
       "First_Return_Date                      datetime64[ns]\n",
       "Last_Return_Date                       datetime64[ns]\n",
       "Store_Revenue_Refund                          float64\n",
       "Store_Product_Quantity_Returned               float64\n",
       "Store_Orders_Returned_TP1                     float64\n",
       "Store_Orders_Returned_TP2                     float64\n",
       "Store_Revenue_Refund_TP1                      float64\n",
       "Store_Revenue_Refund_TP2                      float64\n",
       "Store_Product_Quantity_Returned_TP1           float64\n",
       "Store_Product_Quantity_Returned_TP2           float64\n",
       "Churn                                           int64\n",
       "dtype: object"
      ]
     },
     "execution_count": 62,
     "metadata": {},
     "output_type": "execute_result"
    }
   ],
   "source": [
    "df_store.dtypes"
   ]
  },
  {
   "cell_type": "markdown",
   "metadata": {},
   "source": [
    "### Prepare a file with data distribution to see 25th, 50th, 75th, 90th, 95th and 95th percentile"
   ]
  },
  {
   "cell_type": "code",
   "execution_count": 63,
   "metadata": {},
   "outputs": [],
   "source": [
    "\n",
    "distribution = pd.DataFrame([df_store.count(),df_store.isnull().sum()*100/len(df_store),\n",
    "                             df_store.mean(),df_store.quantile(0), df_store.quantile(0.01), df_store.quantile(0.05),\n",
    "                        df_store.quantile(0.1), df_store.quantile(0.25), df_store.quantile(0.5),\n",
    "                        df_store.quantile(0.75), df_store.quantile(0.9), df_store.quantile(0.95),\n",
    "                        df_store.quantile(0.99), df_store.max(), \n",
    "                        df_store.quantile(0.01)/df_store.quantile(0), df_store.max()/df_store.quantile(0.99)])\n",
    "distribution = distribution.T\n",
    "distribution['Vars'] = distribution.index\n",
    "distribution.columns = ['Count', 'Missing_perc', 'Mean', 'Min', '1st_perc','5th_perc', '10th_perc','25th_perc', '50th_perc','75th_perc',\n",
    "                       '90th_perc', '95th_perc','99th_perc','Max', '1stperc_by_Min', 'Max_by_99thperc', 'Vars']\n",
    "cols = distribution.columns.tolist()\n",
    "cols = cols[-1:] + cols[:-1]\n",
    "distribution = distribution[cols]\n",
    "\n",
    "distribution.to_csv(\"./Distribution.csv\",index=False, na_rep =0)"
   ]
  },
  {
   "cell_type": "markdown",
   "metadata": {},
   "source": [
    "### Drop dates as these are not being used in the model"
   ]
  },
  {
   "cell_type": "code",
   "execution_count": 65,
   "metadata": {},
   "outputs": [],
   "source": [
    "df_store.drop(['First_Return_Date',\n",
    "               'Last_Return_Date',\n",
    "               'First_Order_Date',\n",
    "               'Last_Order_Date'\n",
    "               ],axis=1, inplace=True)"
   ]
  },
  {
   "cell_type": "markdown",
   "metadata": {},
   "source": [
    "### Capping of outliers - this is done by looking at the distribution file and placing a cap for the values a variable takes thereby removing outliers"
   ]
  },
  {
   "cell_type": "code",
   "execution_count": 68,
   "metadata": {},
   "outputs": [],
   "source": [
    "import numpy as np\n",
    "df_store['Store_Orders_Placed_TP1'] = np.where(df_store['Store_Orders_Placed_TP1'] > 264, 264,\n",
    "                                                      df_store['Store_Orders_Placed_TP1'])\n",
    "df_store['Store_Orders_Returned_TP1'] = np.where(df_store['Store_Orders_Returned_TP1'] > 11, 11,\n",
    "                                                      df_store['Store_Orders_Returned_TP1'])\n",
    "df_store['Store_Product_Quantity_Returned_TP1'] = np.where(df_store['Store_Product_Quantity_Returned_TP1'] > 40, 40,\n",
    "                                                      df_store['Store_Product_Quantity_Returned_TP1'])\n",
    "df_store['Store_Product_Quantity_TP1'] = np.where(df_store['Store_Product_Quantity_TP1'] > 871, 871,\n",
    "                                                      df_store['Store_Product_Quantity_TP1'])\n",
    "df_store['Store_Revenue_Refund_TP1'] = np.where(df_store['Store_Revenue_Refund_TP1'] > 497, 497,\n",
    "                                                      df_store['Store_Revenue_Refund_TP1'])\n",
    "df_store['Store_Revenue_TP1'] = np.where(df_store['Store_Revenue_TP1'] > 3286, 3286,\n",
    "                                                      df_store['Store_Revenue_TP1'])\n"
   ]
  },
  {
   "cell_type": "code",
   "execution_count": 69,
   "metadata": {},
   "outputs": [],
   "source": [
    "df_store.rename(columns={'_experienceplatform.acctnumber': 'acctnumber'},inplace=True)"
   ]
  },
  {
   "cell_type": "markdown",
   "metadata": {},
   "source": [
    "## This completes Data Preparation. Now we start with model building"
   ]
  },
  {
   "cell_type": "markdown",
   "metadata": {},
   "source": [
    "#### Split the data into train and test - training has 80% of customers and test set has 20% of customers\n",
    "This is done to validate the model, calculate accuracy, precision and recall of prediction"
   ]
  },
  {
   "cell_type": "code",
   "execution_count": 71,
   "metadata": {},
   "outputs": [
    {
     "name": "stdout",
     "output_type": "stream",
     "text": [
      "Dataset Shape: (703, 20)\n"
     ]
    }
   ],
   "source": [
    "train = df_store.copy()\n",
    "print(\"Dataset Shape:\", df_store.shape)\n"
   ]
  },
  {
   "cell_type": "code",
   "execution_count": 72,
   "metadata": {},
   "outputs": [],
   "source": [
    "#Separate dependant variable\n",
    "y_train = df_store['Churn']\n",
    "train.drop(['Churn'], axis=1, inplace=True)\n",
    "train.drop('acctnumber', axis=1, inplace=True)"
   ]
  },
  {
   "cell_type": "markdown",
   "metadata": {},
   "source": [
    "## Split Data into train and test"
   ]
  },
  {
   "cell_type": "code",
   "execution_count": 73,
   "metadata": {},
   "outputs": [],
   "source": [
    "from sklearn.model_selection import train_test_split, GridSearchCV, cross_val_score\n",
    "train_x, test_x, train_y, test_y = train_test_split(train, y_train, test_size = 0.2, random_state = 32)"
   ]
  },
  {
   "cell_type": "code",
   "execution_count": 74,
   "metadata": {},
   "outputs": [],
   "source": [
    "ntrain = train_x.shape[0]\n",
    "ntest = test_x.shape[0]\n",
    "df_full =  pd.concat([train_x, test_x]).reset_index(drop=True)"
   ]
  },
  {
   "cell_type": "code",
   "execution_count": 75,
   "metadata": {},
   "outputs": [
    {
     "name": "stdout",
     "output_type": "stream",
     "text": [
      "(562, 18)\n",
      "(141, 18)\n"
     ]
    }
   ],
   "source": [
    "train_x = df_full[:ntrain]\n",
    "test_x = df_full[ntrain:]\n",
    "print(train_x.shape)\n",
    "print(test_x.shape)"
   ]
  },
  {
   "cell_type": "markdown",
   "metadata": {},
   "source": [
    "#### Below code is used to build a logistic regression model"
   ]
  },
  {
   "cell_type": "code",
   "execution_count": 76,
   "metadata": {},
   "outputs": [
    {
     "data": {
      "text/plain": [
       "LogisticRegression(C=1.0, class_weight=None, dual=False, fit_intercept=True,\n",
       "                   intercept_scaling=1, l1_ratio=None, max_iter=100,\n",
       "                   multi_class='warn', n_jobs=None, penalty='l2',\n",
       "                   random_state=None, solver='warn', tol=0.0001, verbose=0,\n",
       "                   warm_start=False)"
      ]
     },
     "execution_count": 76,
     "metadata": {},
     "output_type": "execute_result"
    }
   ],
   "source": [
    "from sklearn.ensemble import RandomForestClassifier\n",
    "from sklearn.linear_model import LogisticRegression\n",
    "\n",
    "#classwts = {0 : 0.95, 1 : 0.05}\n",
    "\n",
    "from sklearn.linear_model import LogisticRegression\n",
    "from sklearn import metrics\n",
    "\n",
    "logreg = LogisticRegression()\n",
    "logreg.fit(train_x, train_y)"
   ]
  },
  {
   "cell_type": "markdown",
   "metadata": {},
   "source": [
    "### Once the model is built, we validate the predicted values with test set\n",
    "Note the accuracy of Logistic regression model is 77%"
   ]
  },
  {
   "cell_type": "code",
   "execution_count": 77,
   "metadata": {},
   "outputs": [
    {
     "name": "stdout",
     "output_type": "stream",
     "text": [
      "Accuracy of logistic regression classifier on test set: 0.77\n"
     ]
    }
   ],
   "source": [
    "y_pred = logreg.predict(train_x)\n",
    "print('Accuracy of logistic regression classifier on test set: {:.2f}'.format(logreg.score(test_x, test_y)))"
   ]
  },
  {
   "cell_type": "markdown",
   "metadata": {},
   "source": [
    "### Importing some more libraries for roc curve"
   ]
  },
  {
   "cell_type": "code",
   "execution_count": 79,
   "metadata": {},
   "outputs": [],
   "source": [
    "from sklearn.metrics import roc_curve, auc, mean_squared_error\n",
    "#to ignore warning messages\n",
    "import warnings\n",
    "warnings.filterwarnings('ignore')\n",
    "from subprocess import check_output"
   ]
  },
  {
   "cell_type": "markdown",
   "metadata": {},
   "source": [
    "### We will build one more model using a Random Forest Regression algorithm and decide the algorithm with higher accuracy\n",
    "Note - Logistic regression does not give Feature Importance"
   ]
  },
  {
   "cell_type": "markdown",
   "metadata": {},
   "source": [
    "### Notice the features sorted by their importance - Number of Orders placed has highest importance"
   ]
  },
  {
   "cell_type": "code",
   "execution_count": 81,
   "metadata": {},
   "outputs": [
    {
     "data": {
      "text/plain": [
       "Text(0.5, 0, 'Relative Importance')"
      ]
     },
     "execution_count": 81,
     "metadata": {},
     "output_type": "execute_result"
    },
    {
     "data": {
      "image/png": "[encoded data removed]",
      "text/plain": [
       "<Figure size 504x360 with 1 Axes>"
      ]
     },
     "metadata": {
      "needs_background": "light"
     },
     "output_type": "display_data"
    }
   ],
   "source": [
    "from sklearn.ensemble import RandomForestClassifier\n",
    "from sklearn.ensemble import RandomForestRegressor \n",
    "\n",
    "rf = RandomForestRegressor(n_estimators = 1000, random_state = 42)\n",
    "rf.fit(train_x, train_y)\n",
    "test_xp = rf.predict(test_x)\n",
    "test_xp1 = np.where(test_xp > 0.12, 1,0)\n",
    "\n",
    "# Feature importance:\n",
    "features=train_x.columns\n",
    "importances = rf.feature_importances_\n",
    "indices = np.argsort(importances)\n",
    "\n",
    "# Plot for feature importance:\n",
    "plt.figure(figsize=(7, 5))\n",
    "plt.title('Feature Importances')\n",
    "plt.barh(range(len(indices)), importances[indices], color='c', align='center')\n",
    "plt.yticks(range(len(indices)), features[indices])\n",
    "plt.xlabel('Relative Importance')\n"
   ]
  },
  {
   "cell_type": "code",
   "execution_count": 82,
   "metadata": {},
   "outputs": [
    {
     "data": {
      "text/plain": [
       "array([0.31435308, 0.04740769, 0.0516014 , 0.14440237, 0.08266487,\n",
       "       0.04288949, 0.09661034, 0.04868556, 0.06810443, 0.01180354,\n",
       "       0.01887264, 0.01118558, 0.00930236, 0.00707394, 0.01433989,\n",
       "       0.01471421, 0.0058262 , 0.01016239])"
      ]
     },
     "execution_count": 82,
     "metadata": {},
     "output_type": "execute_result"
    }
   ],
   "source": [
    "importances"
   ]
  },
  {
   "cell_type": "markdown",
   "metadata": {},
   "source": [
    "### Calulating roc and plotting the roc curve (ROC - Receiver Operating Characteristics)\n",
    "ROC curve gives an understanding of how well the model distinguishes between churn and non churn customers"
   ]
  },
  {
   "cell_type": "code",
   "execution_count": 85,
   "metadata": {},
   "outputs": [
    {
     "data": {
      "image/png": "[encoded data removed]",
      "text/plain": [
       "<Figure size 432x288 with 1 Axes>"
      ]
     },
     "metadata": {
      "needs_background": "light"
     },
     "output_type": "display_data"
    }
   ],
   "source": [
    "\n",
    "from sklearn.metrics import roc_curve\n",
    "from sklearn.metrics import roc_auc_score \n",
    " \n",
    "\n",
    "\n",
    "# calculate scores\n",
    "ns_probs = [0 for _ in range(len(test_y))]\n",
    "ns_auc = roc_auc_score(test_y, ns_probs)\n",
    "rf_auc = roc_auc_score(test_y, test_xp1)\n",
    "# calculate roc curves\n",
    "ns_fpr, ns_tpr, _ = roc_curve(test_y, ns_probs)\n",
    "lr_fpr, lr_tpr, _ = roc_curve(test_y, test_xp1)\n",
    "# plot the roc curve for the model\n",
    "plt.plot(ns_fpr, ns_tpr, linestyle='--', label='No Skill')\n",
    "plt.plot(lr_fpr, lr_tpr, marker='.', label='Random Forest')\n",
    "# show the legend\n",
    "plt.legend()\n",
    "plt.xlabel('False positive rate')\n",
    "plt.ylabel('True positive rate')\n",
    "# show the plot\n",
    "plt.show() \n",
    "\n",
    " \n"
   ]
  },
  {
   "cell_type": "markdown",
   "metadata": {},
   "source": [
    "### Final step - Write the output data back to platform - This is the output data which has to be created in order to score"
   ]
  },
  {
   "cell_type": "code",
   "execution_count": 94,
   "metadata": {},
   "outputs": [
    {
     "data": {
      "text/plain": [
       "('5dd319beccddf618a8a6f262', '437923f0-0a52-11ea-86fd-412413ce33d1')"
      ]
     },
     "execution_count": 94,
     "metadata": {},
     "output_type": "execute_result"
    }
   ],
   "source": [
    "# 5dbdc39ed37beb18a9704f8c - Churn_input_data\n",
    "# Churn output data for scoring\n",
    "\n",
    "from data_access_sdk_python.writer import DataSetWriter\n",
    "\n",
    "writer = DataSetWriter()\n",
    "writer.write(data_set_id=\"5dd319beccddf618a8a6f262\", dataframe=df_store, ims_org=\"907075E95BF479EC0A495C73@AdobeOrg\", file_format=\"json\")"
   ]
  },
  {
   "cell_type": "code",
   "execution_count": null,
   "metadata": {},
   "outputs": [],
   "source": []
  }
 ],
 "metadata": {
  "kernelspec": {
   "display_name": "Python 3",
   "language": "python",
   "name": "python3"
  },
  "language_info": {
   "codemirror_mode": {
    "name": "ipython",
    "version": 3
   },
   "file_extension": ".py",
   "mimetype": "text/x-python",
   "name": "python",
   "nbconvert_exporter": "python",
   "pygments_lexer": "ipython3",
   "version": "3.6.7"
  }
 },
 "nbformat": 4,
 "nbformat_minor": 4
}
