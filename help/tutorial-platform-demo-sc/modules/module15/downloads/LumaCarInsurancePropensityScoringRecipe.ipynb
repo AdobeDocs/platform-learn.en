{
 "cells": [
  {
   "cell_type": "markdown",
   "metadata": {},
   "source": [
    "## Recipe Builder Actions Overview\n",
    "\n",
    "### Saving a File Cell\n",
    "If you wish to save the contents of a cell, simply run it.  The `%%writefile` command at the top of the cell will write the contents of the cell to the file named at the top of the cell. You should run the cells manually when applicable. However, **pressing any of the actions at the top will automatically run all file cells relevant to the action**.\n",
    "\n",
    "### Training and Scoring\n",
    "Press the associated buttons at the top in order to run training or scoring. The training output will be shown below the `evaluator.py` cell and scoring output will be shown below the `datasaver.py` cell. You must run training at least once before you can run scoring. You may delete the output cell(s). Running training the first time or after changing `requirements.txt` will be slower since the dependencies for the recipe need to be installed, but subsequent runs will be significantly faster. If you wish to see the hidden output add `debug` to the end of the output cell and re-run it.\n",
    "\n",
    "### Creating the Recipe\n",
    "When you are done editing the recipe and satisfied with the training/scoring output, you can create a recipe from the notebook by pressing `Create Recipe`. You must run scoring at least once before you can create the recipe. After pressing it, you will see a progress bar showing how much time is left for the build to finish. If the recipe creation is successful the progress bar will be replaced by an external link that you can click to navigate to the created recipe.\n",
    "\n",
    "\n",
    "## Caution!\n",
    "* **Do not delete any of the file cells**\n",
    "* **Do not edit the `%%writefile` line at the top of the file cells**\n",
    "\n",
    "---"
   ]
  },
  {
   "cell_type": "markdown",
   "metadata": {},
   "source": [
    "#### **Requirements File** (Optional)\n",
    "Add additional libraries you wish to use in the recipe to the cell below. You can specify the version number if necessary. The file cell below is a **commented out example**."
   ]
  },
  {
   "cell_type": "code",
   "execution_count": 19,
   "metadata": {
    "id": "requirements.txt",
    "tags": [
     "requirements.txt"
    ]
   },
   "outputs": [
    {
     "name": "stdout",
     "output_type": "stream",
     "text": [
      "Overwriting /home/asruser/my-workspace/.recipes/recipe-ptj6oMLya/requirements.txt\n"
     ]
    }
   ],
   "source": [
    "# pandas=0.22.0\n",
    "# numpy"
   ]
  },
  {
   "cell_type": "markdown",
   "metadata": {},
   "source": [
    "Search here for additional libraries https://anaconda.org/. This is the list of main **libraries already in use**:\n",
    "`python=3.5.2` `scikit-learn` `pandas` `numpy` `data_access_sdk_python`\n",
    "**Warning: libraries or specific versions you add may be incompatible with the above libraries**."
   ]
  },
  {
   "cell_type": "markdown",
   "metadata": {},
   "source": [
    "---"
   ]
  },
  {
   "cell_type": "markdown",
   "metadata": {},
   "source": [
    "#### **Configuration Files**\n",
    "List any hyperparameters you wish to use. Specify the dataset(s) and schema(s) that are needed for training/scoring. To find the dataset ids go to the **Data tab** in Adobe Experience Platform or view the **Datasets** folder in the **Notebooks Data tab** on the left. You can also find schema id in the **Notebooks Data tab** under the **Schemas** folder. Each configuration will only be used for its corresponding action. `ACP_DSW_TRAINING_XDM_SCHEMA` and `ACP_DSW_SCORING_RESULTS_XDM_SCHEMA` will only be used after the recipe has been created."
   ]
  },
  {
   "cell_type": "markdown",
   "metadata": {},
   "source": [
    "##### Training Configuration"
   ]
  },
  {
   "cell_type": "code",
   "execution_count": 20,
   "metadata": {
    "id": "training.conf",
    "tags": [
     "training.conf"
    ]
   },
   "outputs": [
    {
     "name": "stdout",
     "output_type": "stream",
     "text": [
      "Overwriting /home/asruser/my-workspace/.recipes/recipe-ptj6oMLya/training.conf\n"
     ]
    }
   ],
   "source": [
    "{\n",
    "    \"trainingDataSetId\": \"5e7856af46df0618a83c26ec\",\n",
    "    \"ACP_DSW_TRAINING_XDM_SCHEMA\": \"https://ns.adobe.com/experienceplatform/schemas/cc85bf9611e1df1c6ef9d0a237c3e9ec\",\n",
    "    \"train_records_limit\":1000000,\n",
    "    \"n_estimators\": \"80\",\n",
    "    \"max_depth\": \"5\",\n",
    "    \"ten_id\": \"_experienceplatform\"\n",
    "}"
   ]
  },
  {
   "cell_type": "markdown",
   "metadata": {},
   "source": [
    "##### Scoring Configuration"
   ]
  },
  {
   "cell_type": "code",
   "execution_count": 21,
   "metadata": {
    "id": "scoring.conf",
    "tags": [
     "scoring.conf"
    ]
   },
   "outputs": [
    {
     "name": "stdout",
     "output_type": "stream",
     "text": [
      "Overwriting /home/asruser/my-workspace/.recipes/recipe-ptj6oMLya/scoring.conf\n"
     ]
    }
   ],
   "source": [
    "{\n",
    "   \"scoringDataSetId\": \"5e7856af46df0618a83c26ec\",\n",
    "   \"scoringResultsDataSetId\": \"5d918f445dad97163733422e\",\n",
    "   \"ACP_DSW_SCORING_RESULTS_XDM_SCHEMA\": \"https://ns.adobe.com/experienceplatform/schemas/8d8773d1cffdd8ed8de7f6d42778a527\",\n",
    "   \"ten_id\": \"_experienceplatform\"\n",
    "}"
   ]
  },
  {
   "cell_type": "markdown",
   "metadata": {},
   "source": [
    "**The following configuration parameters are automatically set for you when you train/score:** \n",
    "`ML_FRAMEWORK_IMS_USER_CLIENT_ID` `ML_FRAMEWORK_IMS_TOKEN` `ML_FRAMEWORK_IMS_ML_TOKEN` `ML_FRAMEWORK_IMS_TENANT_ID`"
   ]
  },
  {
   "cell_type": "markdown",
   "metadata": {},
   "source": [
    "---"
   ]
  },
  {
   "cell_type": "markdown",
   "metadata": {},
   "source": [
    "#### **Training Data Loader File**\n",
    "Implement the `load` function to load and prepare the training data."
   ]
  },
  {
   "cell_type": "code",
   "execution_count": 22,
   "metadata": {
    "id": "trainingdataloader.py",
    "tags": [
     "trainingdataloader.py"
    ]
   },
   "outputs": [
    {
     "name": "stdout",
     "output_type": "stream",
     "text": [
      "Overwriting /home/asruser/my-workspace/.recipes/recipe-ptj6oMLya/recipe/trainingdataloader.py\n"
     ]
    }
   ],
   "source": [
    "import numpy as np\n",
    "import pandas as pd\n",
    "from datetime import datetime, timedelta\n",
    "from platform_sdk.dataset_reader import DatasetReader\n",
    "from .utils import get_client_context\n",
    "\n",
    "def load(config_properties):\n",
    "    print(\"Training Data Load Start\")\n",
    "\n",
    "    #########################################\n",
    "    # Load Data\n",
    "    #########################################    \n",
    "    client_context = get_client_context(config_properties)\n",
    "    train_records_limit = config_properties['train_records_limit']\n",
    "    \n",
    "    dataset_reader = DatasetReader(client_context, config_properties['trainingDataSetId'])\n",
    "    \n",
    "    #timeframe = config_properties.get(\"timeframe\")\n",
    "    #tenant_id = config_properties.get(\"tenant_id\")\n",
    "    print('Reading Training Data')\n",
    "    df1 = dataset_reader.limit(train_records_limit).read()\n",
    "    df1.rename(columns = {config_properties['ten_id']+'.identification.ecid' : 'ecid',\n",
    "                     config_properties['ten_id']+'.carinsurance.insuranceKm': 'km',\n",
    "                     config_properties['ten_id']+'.carinsurance.insuranceCarType': 'cartype',\n",
    "                     config_properties['ten_id']+'.carinsurance.insuranceAge': 'age',\n",
    "                     config_properties['ten_id']+'.carinsurance.insuranceGender' : 'gender',\n",
    "                     config_properties['ten_id']+'.carinsurance.insuranceCarBrand' : 'carbrand',\n",
    "                     config_properties['ten_id']+'.carinsurance.insuranceLeasing' : 'leasing',\n",
    "                     config_properties['ten_id']+'.carinsurance.insuranceCity' : 'city',\n",
    "                     config_properties['ten_id']+'.carinsurance.insuranceCountry' : 'country',\n",
    "                     config_properties['ten_id']+'.carinsurance.insuranceNationality' : 'nationality',\n",
    "                     config_properties['ten_id']+'.carinsurance.insurancePrimaryDriver' : 'primaryuser',\n",
    "                     config_properties['ten_id']+'.carinsurance.insurancePurchase' : 'purchase',\n",
    "                     config_properties['ten_id']+'.carinsurance.insuranceBasicPrice' : 'pricequote'}, inplace=True)\n",
    "    df1 = df1[['ecid', 'km', 'cartype', 'age', 'gender', 'carbrand', 'leasing', 'city', \n",
    "           'country', 'nationality', 'primaryuser', 'purchase', 'pricequote', 'timestamp']]\n",
    "    \n",
    "    #########################################\n",
    "    # Data Rollup\n",
    "    ######################################### \n",
    "    df1['timestamp'] = pd.to_datetime(df1.timestamp)\n",
    "    df1['hour'] = df1['timestamp'].dt.hour.astype(int)\n",
    "    df1['dayofweek'] = df1['timestamp'].dt.dayofweek\n",
    "    df1.loc[(df1['purchase'] == 'yes'), 'purchase'] = 1\n",
    "    df1.purchase.fillna(0, inplace=True)\n",
    "    df1['purchase'] = df1['purchase'].astype(int)\n",
    "    \n",
    "    df1.dropna(subset = ['ecid'], inplace=True)\n",
    "    df1['ecid'] = df1['ecid'].astype(str)\n",
    "    df_conv_dict = df1.groupby('ecid').max()[['purchase']]\n",
    "    df_conv_dict = df_conv_dict.to_dict()\n",
    "    \n",
    "    idx = df1.groupby('ecid')['timestamp'].transform(max) == df1['timestamp']\n",
    "    df1 = df1[idx]\n",
    "    df1 = df1.drop_duplicates(subset = 'ecid', keep = 'last', inplace = False)\n",
    "    #df1['purchase'] = df1['ecid'].map(df_conv_dict['purchase'])\n",
    "\n",
    "    #########################################\n",
    "    # Data Preparation/Feature Engineering\n",
    "    #########################################      \n",
    "    \n",
    "    df1['carbrand'] = df1['carbrand'].str.lower()\n",
    "    df1['country'] = df1['country'].str.lower()\n",
    "    df1.loc[(df1['carbrand'] == 'vw'), 'carbrand'] = 'volkswagen'\n",
    "    df1.loc[(df1['carbrand'] == 'citroen'), 'carbrand'] = 'cadillac'\n",
    "    df1.loc[(df1['carbrand'] == 'opel'), 'carbrand'] = 'bmw'\n",
    "    df1.loc[(df1['carbrand'] == 'mini'), 'carbrand'] = 'volkswagen'\n",
    "    \n",
    "    df1.loc[(df1['cartype'] == 'SUV / Geländewagen') | (df1['cartype'] == 'SUV / Tout terrain'), 'cartype'] = 'suv'\n",
    "    df1.loc[(df1['cartype'] == 'Kleinwagen') | (df1['cartype'] == 'Untere Mittelklasse') | (df1['cartype'] == 'Mikroklasse'), 'cartype'] = 'hatchback'\n",
    "    df1.loc[(df1['cartype'] == 'Mittelklasse') | (df1['cartype'] == 'Obere Mittelklasse'), 'cartype'] = 'sedan'\n",
    "    df1.loc[(df1['cartype'] == 'Kompaktvan / Minivan'), 'cartype'] = 'minivan'\n",
    "    df1.loc[(df1['cartype'] == 'Cabriolet / Roadster'), 'cartype'] = 'convertible'\n",
    "    df1.loc[(df1['cartype'] == 'Coupé / Sportwagen'), 'cartype'] = 'coupe'\n",
    "    df1.loc[(df1['cartype'] == 'dataLayerNull'), 'cartype'] = pd.np.nan\n",
    "    df1.loc[(df1['cartype'] == 'Luxusklasse'), 'cartype'] = 'luxury'\n",
    "    df1.loc[(df1['cartype'] == 'Strasse'), 'cartype'] = 'mpv'\n",
    "    \n",
    "    df1.loc[(df1['leasing'] == 'FALSE'), 'leasing'] = 'no'\n",
    "    df1.loc[df1['country'] == 'at', 'country'] = 'austria'\n",
    "    df1.loc[(df1['leasing'] == 'dataLayerNull'), 'leasing'] = pd.np.nan\n",
    "    df1.loc[(df1['gender'] == 'dataLayerNull'), 'gender'] = pd.np.nan\n",
    "    df1.loc[(df1['carbrand'] == 'dataLayerNull'), 'carbrand'] = pd.np.nan\n",
    "\n",
    "    df1['age'].fillna(df1['age'].median(), inplace=True)\n",
    "    df1['gender'].fillna('notgiven', inplace=True)\n",
    "    df1['leasing'].fillna('notgiven', inplace=True)\n",
    "    df1['carbrand'].fillna('bmw', inplace=True)\n",
    "    df1['country'].fillna('germany', inplace=True)\n",
    "    df1['cartype'].fillna('na', inplace=True)\n",
    "    df1['primaryuser'].fillna('na', inplace=True)\n",
    "    df1['nationality'].fillna('na', inplace=True)\n",
    "    df1['km'].fillna('na', inplace=True)\n",
    "    \n",
    "    df1['city'] = df1.groupby('country')['city'].transform(lambda x : x.fillna(x.mode()))\n",
    "    #df1.dropna(subset = ['pricequote'], inplace=True)\n",
    "    \n",
    "    #grouping\n",
    "    grouping_cols = ['carbrand', 'cartype', 'city', 'country']\n",
    "    \n",
    "    for col in grouping_cols:\n",
    "        df_idx = pd.DataFrame(df1[col].value_counts().head(6))\n",
    "\n",
    "        def grouping(x):\n",
    "            if x in df_idx.index:\n",
    "                return x\n",
    "            else:\n",
    "                return \"Others\"\n",
    "        df1[col] = df1[col].apply(lambda x: grouping(x))\n",
    "        \n",
    "    def age(x):\n",
    "        if x < 20:\n",
    "            return \"u20\"\n",
    "        elif x > 19 and x < 29:\n",
    "            return \"20-28\"\n",
    "        elif x > 28 and x < 43:\n",
    "            return \"29-42\"\n",
    "        elif x > 42 and x < 55:\n",
    "            return \"43-54\"\n",
    "        elif x > 54 and x < 65:\n",
    "            return \"55-64\"\n",
    "        elif x >= 65: \n",
    "            return \"65+\"\n",
    "        else: \n",
    "            return \"Others\"\n",
    "        \n",
    "    df1['age'] = df1['age'].astype(int)\n",
    "    df1['age_bucket'] = df1['age'].apply(lambda x: age(x))\n",
    "    \n",
    "    df_final = df1[['hour', 'dayofweek','age_bucket', 'gender', 'city',  \n",
    "       'country', 'carbrand', 'cartype', 'leasing', 'pricequote', 'purchase']]\n",
    "    \n",
    "    cat_cols = ['age_bucket', 'gender', 'city', 'dayofweek', 'country', 'carbrand', 'cartype', 'leasing']\n",
    "    df_final = pd.get_dummies(df_final, columns = cat_cols)\n",
    "    \n",
    "    dataframe = df_final.copy()\n",
    "    \n",
    "    df_final.head(20)\n",
    " \n",
    "    print(\"Training Data Load Finish\")\n",
    "    return dataframe"
   ]
  },
  {
   "cell_type": "markdown",
   "metadata": {},
   "source": [
    "---"
   ]
  },
  {
   "cell_type": "markdown",
   "metadata": {},
   "source": [
    "#### **Scoring Data Loader File**\n",
    "Implement the `load` function to load and prepare the scoring data."
   ]
  },
  {
   "cell_type": "code",
   "execution_count": 23,
   "metadata": {
    "id": "scoringdataloader.py",
    "tags": [
     "scoringdataloader.py"
    ]
   },
   "outputs": [
    {
     "name": "stdout",
     "output_type": "stream",
     "text": [
      "Overwriting /home/asruser/my-workspace/.recipes/recipe-ptj6oMLya/recipe/scoringdataloader.py\n"
     ]
    }
   ],
   "source": [
    "import pandas as pd\n",
    "from datetime import datetime, timedelta\n",
    "from .utils import get_client_context\n",
    "from platform_sdk.dataset_reader import DatasetReader\n",
    "\n",
    "def load(config_properties):\n",
    "\n",
    "    print(\"Scoring Data Load Start\")\n",
    "\n",
    "    #########################################\n",
    "    # Load Data\n",
    "    #########################################    \n",
    "    client_context = get_client_context(config_properties)\n",
    "    \n",
    "    dataset_reader = DatasetReader(client_context, config_properties['scoringDataSetId'])\n",
    "    \n",
    "    #timeframe = config_properties.get(\"timeframe\")\n",
    "    #tenant_id = config_properties.get(\"tenant_id\")\n",
    "    df1 = dataset_reader.read()\n",
    "    df1.rename(columns = {config_properties['ten_id']+'.identification.ecid' : 'ecid',\n",
    "                     config_properties['ten_id']+'.carinsurance.insuranceKm': 'km',\n",
    "                     config_properties['ten_id']+'.carinsurance.insuranceCarType': 'cartype',\n",
    "                     config_properties['ten_id']+'.carinsurance.insuranceAge': 'age',\n",
    "                     config_properties['ten_id']+'.carinsurance.insuranceGender' : 'gender',\n",
    "                     config_properties['ten_id']+'.carinsurance.insuranceCarBrand' : 'carbrand',\n",
    "                     config_properties['ten_id']+'.carinsurance.insuranceLeasing' : 'leasing',\n",
    "                     config_properties['ten_id']+'.carinsurance.insuranceCity' : 'city',\n",
    "                     config_properties['ten_id']+'.carinsurance.insuranceCountry' : 'country',\n",
    "                     config_properties['ten_id']+'.carinsurance.insuranceNationality' : 'nationality',\n",
    "                     config_properties['ten_id']+'.carinsurance.insurancePrimaryDriver' : 'primaryuser',\n",
    "                     config_properties['ten_id']+'.carinsurance.insurancePurchase' : 'purchase',\n",
    "                     config_properties['ten_id']+'.carinsurance.insuranceBasicPrice' : 'pricequote'}, inplace=True)\n",
    "    df1 = df1[['ecid', 'km', 'cartype', 'age', 'gender', 'carbrand', 'leasing', 'city', \n",
    "           'country', 'nationality', 'primaryuser', 'purchase', 'pricequote', 'timestamp']]\n",
    "    \n",
    "    #########################################\n",
    "    # Data Rollup\n",
    "    ######################################### \n",
    "    df1['timestamp'] = pd.to_datetime(df1.timestamp)\n",
    "    df1['hour'] = df1['timestamp'].dt.hour.astype(int)\n",
    "    df1['dayofweek'] = df1['timestamp'].dt.dayofweek\n",
    "    \n",
    "    df1.loc[(df1['purchase'] == 'yes'), 'purchase'] = 1\n",
    "    df1.purchase.fillna(0, inplace=True)\n",
    "    df1['purchase'] = df1['purchase'].astype(int)\n",
    "    \n",
    "    df1.dropna(subset = ['ecid'], inplace=True)\n",
    "    df1['ecid'] = df1['ecid'].astype(str)\n",
    "    df_conv_dict = df1.groupby('ecid').max()[['purchase']]\n",
    "    df_conv_dict = df_conv_dict.to_dict()\n",
    "    \n",
    "    idx = df1.groupby('ecid')['timestamp'].transform(max) == df1['timestamp']\n",
    "    df1 = df1[idx]\n",
    "    df1 = df1.drop_duplicates(subset = 'ecid', keep = 'last', inplace = False)\n",
    "    df1['purchase'] = df1['ecid'].map(df_conv_dict['purchase'])\n",
    "    \n",
    "    #########################################\n",
    "    # Data Preparation/Feature Engineering\n",
    "    #########################################      \n",
    "    \n",
    "    df1['carbrand'] = df1['carbrand'].str.lower()\n",
    "    df1['country'] = df1['country'].str.lower()\n",
    "    df1.loc[(df1['carbrand'] == 'vw'), 'carbrand'] = 'volkswagen'\n",
    "    df1.loc[(df1['carbrand'] == 'citroen'), 'carbrand'] = 'cadillac'\n",
    "    df1.loc[(df1['carbrand'] == 'opel'), 'carbrand'] = 'bmw'\n",
    "    df1.loc[(df1['carbrand'] == 'mini'), 'carbrand'] = 'volkswagen'\n",
    "    \n",
    "    df1.loc[(df1['cartype'] == 'SUV / Geländewagen') | (df1['cartype'] == 'SUV / Tout terrain'), 'cartype'] = 'suv'\n",
    "    df1.loc[(df1['cartype'] == 'Kleinwagen') | (df1['cartype'] == 'Untere Mittelklasse') | (df1['cartype'] == 'Mikroklasse'), 'cartype'] = 'hatchback'\n",
    "    df1.loc[(df1['cartype'] == 'Mittelklasse') | (df1['cartype'] == 'Obere Mittelklasse'), 'cartype'] = 'sedan'\n",
    "    df1.loc[(df1['cartype'] == 'Kompaktvan / Minivan'), 'cartype'] = 'minivan'\n",
    "    df1.loc[(df1['cartype'] == 'Cabriolet / Roadster'), 'cartype'] = 'convertible'\n",
    "    df1.loc[(df1['cartype'] == 'Coupé / Sportwagen'), 'cartype'] = 'coupe'\n",
    "    df1.loc[(df1['cartype'] == 'dataLayerNull'), 'cartype'] = pd.np.nan\n",
    "    df1.loc[(df1['cartype'] == 'Luxusklasse'), 'cartype'] = 'luxury'\n",
    "    df1.loc[(df1['cartype'] == 'Strasse'), 'cartype'] = 'mpv'\n",
    "    \n",
    "    df1.loc[(df1['leasing'] == 'FALSE'), 'leasing'] = 'no'\n",
    "    df1.loc[df1['country'] == 'at', 'country'] = 'austria'\n",
    "    df1.loc[(df1['leasing'] == 'dataLayerNull'), 'leasing'] = pd.np.nan\n",
    "    df1.loc[(df1['gender'] == 'dataLayerNull'), 'gender'] = pd.np.nan\n",
    "    df1.loc[(df1['carbrand'] == 'dataLayerNull'), 'carbrand'] = pd.np.nan\n",
    "\n",
    "    df1['age'].fillna(df1['age'].median(), inplace=True)\n",
    "    df1['gender'].fillna('notgiven', inplace=True)\n",
    "    df1['leasing'].fillna('notgiven', inplace=True)\n",
    "    df1['carbrand'].fillna('bmw', inplace=True)\n",
    "    df1['country'].fillna('germany', inplace=True)\n",
    "    df1['cartype'].fillna('na', inplace=True)\n",
    "    df1['primaryuser'].fillna('na', inplace=True)\n",
    "    df1['nationality'].fillna('na', inplace=True)\n",
    "    df1['km'].fillna('na', inplace=True)\n",
    "    \n",
    "    df1['city'] = df1.groupby('country')['city'].transform(lambda x : x.fillna(x.mode()))\n",
    "    df1.dropna(subset = ['pricequote'], inplace=True)\n",
    "    \n",
    "    #grouping\n",
    "    grouping_cols = ['carbrand', 'cartype', 'city', 'country']\n",
    "    \n",
    "    for col in grouping_cols:\n",
    "        df_idx = pd.DataFrame(df1[col].value_counts().head(6))\n",
    "\n",
    "        def grouping(x):\n",
    "            if x in df_idx.index:\n",
    "                return x\n",
    "            else:\n",
    "                return \"Others\"\n",
    "        df1[col] = df1[col].apply(lambda x: grouping(x))\n",
    "        \n",
    "    def age(x):\n",
    "        if x < 20:\n",
    "            return \"u20\"\n",
    "        elif x > 19 and x < 29:\n",
    "            return \"20-28\"\n",
    "        elif x > 28 and x < 43:\n",
    "            return \"29-42\"\n",
    "        elif x > 42 and x < 55:\n",
    "            return \"43-54\"\n",
    "        elif x > 54 and x < 65:\n",
    "            return \"55-64\"\n",
    "        elif x >= 65: \n",
    "            return \"65+\"\n",
    "        else: \n",
    "            return \"Others\"\n",
    "        \n",
    "    df1['age'] = df1['age'].astype(int)\n",
    "    df1['age_bucket'] = df1['age'].apply(lambda x: age(x))\n",
    "    \n",
    "    df_final = df1[['ecid', 'hour', 'dayofweek','age_bucket', 'gender', 'city',  \n",
    "       'country', 'carbrand', 'cartype', 'leasing', 'pricequote']]\n",
    "    \n",
    "    #cat_cols = ['age_bucket', 'gender', 'city', 'dayofweek', 'country', 'carbrand', 'cartype', 'leasing']\n",
    "    #df_final = pd.get_dummies(df_final, columns = cat_cols)\n",
    "    \n",
    "    dataframe = df_final.copy()\n",
    "\n",
    "    print(\"Scoring Data Load Finish\")\n",
    "\n",
    "    return dataframe"
   ]
  },
  {
   "cell_type": "markdown",
   "metadata": {},
   "source": [
    "---"
   ]
  },
  {
   "cell_type": "markdown",
   "metadata": {},
   "source": [
    "#### **Pipeline File**\n",
    "Implement the `train` function and return the trained model. Implement the `score` function to return a prediction made on the scoring data."
   ]
  },
  {
   "cell_type": "code",
   "execution_count": 24,
   "metadata": {
    "id": "pipeline.py",
    "tags": [
     "pipeline.py"
    ]
   },
   "outputs": [
    {
     "name": "stdout",
     "output_type": "stream",
     "text": [
      "Overwriting /home/asruser/my-workspace/.recipes/recipe-ptj6oMLya/recipe/pipeline.py\n"
     ]
    }
   ],
   "source": [
    "import pandas as pd\n",
    "import numpy as np\n",
    "from sklearn import metrics\n",
    "from sklearn.metrics import roc_curve, auc, mean_squared_error\n",
    "from sklearn.ensemble import RandomForestClassifier\n",
    "import os\n",
    "\n",
    "def underSample(data):\n",
    "    conv = data[data['purchase'] > 0]\n",
    "    non_conv = data[data['purchase'] == 0]\n",
    "    sample_size = len(conv)\n",
    "    non_sample = non_conv.sample(n = sample_size)\n",
    "    frames = [conv, non_sample]\n",
    "    result = pd.concat(frames)\n",
    "    return result\n",
    "\n",
    "class RandomForest():\n",
    "    def __init__(self, config_properties, X, y):\n",
    "        print(\"initiating model\")\n",
    "        self.n_estimators = int(config_properties['n_estimators'])\n",
    "        self.max_depth = int(config_properties['max_depth'])\n",
    "        self.X = X\n",
    "        self.y = y\n",
    "        self.features = X.columns.values.tolist()\n",
    "        self.model = RandomForestClassifier(n_estimators=self.n_estimators, max_depth=self.max_depth, random_state=32)\n",
    "        self.trained_model = self.model.fit(self.X,self.y)\n",
    "    def train_model(self):\n",
    "        print('fitting model')\n",
    "        return self.model.fit(self.X,self.y)\n",
    "    \n",
    "    def make_tarfile(self, output_filename, source_dir):\n",
    "        with tarfile.open(output_filename, \"w:gz\") as tar:\n",
    "            tar.add(source_dir, arcname=os.path.basename(source_dir))\n",
    "    \n",
    "    #for generating onnx\n",
    "    def generate_onnx_resources(self):        \n",
    "        install_dir = os.path.expanduser('~/my-workspace')\n",
    "        print(\"Generating Onnx\")\n",
    "        try:\n",
    "            subprocess.check_call([\"conda\", \"uninstall\", \"-y\", \"protobuf\"])\n",
    "        except:\n",
    "            print(\"protobuf not installed via conda\")\n",
    "        \n",
    "        subprocess.check_call([\"python\", '-m', 'pip', 'install', 'skl2onnx'])\n",
    "        \n",
    "        from skl2onnx import convert_sklearn\n",
    "        from skl2onnx.common.data_types import FloatTensorType\n",
    "        \n",
    "        # ONNX-ification\n",
    "        initial_type = [('float_input', FloatTensorType([None, self.feature_len]))]\n",
    "\n",
    "        print(\"Converting Model to Onnx\")\n",
    "        onx = convert_sklearn(self.model, initial_types=initial_type)\n",
    "             \n",
    "        with open(\"model_new.onnx\", \"wb\") as f:\n",
    "            f.write(onx.SerializeToString())\n",
    "            \n",
    "        self.make_tarfile('model_new.tar.gz', 'model.onnx')\n",
    "        print(\"Model onnx created\")\n",
    "\n",
    "def train(config_properties, data):\n",
    "\n",
    "    print(\"Train Start\")  \n",
    "    y_train = data['purchase']\n",
    "    X_train = data.drop('purchase', axis=1)\n",
    "    # Fit model\n",
    "    lead_score = RandomForest(config_properties, X_train, y_train)\n",
    "    lead_score.train_model()\n",
    "\n",
    "    print(\"Train Complete\")\n",
    "    \n",
    "    return lead_score\n",
    "\n",
    "def score(config_properties, data, model):\n",
    "\n",
    "    print(\"Score Start\")\n",
    "    cat_cols = ['age_bucket', 'gender', 'city', 'dayofweek', 'country', 'carbrand', 'cartype', 'leasing']\n",
    "    data = pd.get_dummies(data, columns = cat_cols)\n",
    "    \n",
    "    X_score = data.drop('ecid', axis=1)\n",
    "    train_feats = model.features\n",
    "    print(train_feats)\n",
    "    \n",
    "    trained_model = model.trained_model\n",
    "    score_feats = X_score.columns.values.tolist()\n",
    "    missing_feats = list(set(train_feats) - set(score_feats))\n",
    "    extra_feats = list(set(score_feats) - set(train_feats))\n",
    "    for c in extra_feats:\n",
    "        X_score.drop(c, axis=1, inplace=True)\n",
    "    for c in missing_feats:\n",
    "        X_score[c] = 0\n",
    "    X_score = X_score[train_feats]\n",
    "    print(X_score.columns.values.tolist())\n",
    "    y_preds = trained_model.predict_proba(X_score)[:,1]\n",
    "    \n",
    "    data.rename(columns = {'ecid' : config_properties['ten_id']+'.identification.ecid'}, inplace=True)\n",
    "    \n",
    "    data[config_properties['ten_id']+'.salesPrediction.carInsuranceSalesPrediction'] = y_preds\n",
    "    data = data[[config_properties['ten_id']+'.identification.ecid', config_properties['ten_id']+'.salesPrediction.carInsuranceSalesPrediction']]\n",
    "\n",
    "    print(\"Score Complete\")\n",
    "    return data"
   ]
  },
  {
   "cell_type": "markdown",
   "metadata": {},
   "source": [
    "---"
   ]
  },
  {
   "cell_type": "markdown",
   "metadata": {},
   "source": [
    "#### **Evaluator File**\n",
    "Implement the `split` function to partition the training data and the `evaluate` function to the return the validation metrics you wish to see. Training output will be shown below this file cell."
   ]
  },
  {
   "cell_type": "code",
   "execution_count": 25,
   "metadata": {
    "id": "evaluator.py",
    "tags": [
     "evaluator.py"
    ]
   },
   "outputs": [
    {
     "name": "stdout",
     "output_type": "stream",
     "text": [
      "Overwriting /home/asruser/my-workspace/.recipes/recipe-ptj6oMLya/recipe/evaluator.py\n"
     ]
    }
   ],
   "source": [
    "from ml.runtime.python.core.regressionEvaluator import RegressionEvaluator\n",
    "import numpy as np\n",
    "from sklearn import metrics\n",
    "from sklearn.metrics import roc_curve, auc\n",
    "from sklearn.model_selection import train_test_split\n",
    "\n",
    "class Evaluator(RegressionEvaluator):\n",
    "    def __init__(self):\n",
    "        print (\"Initiate\")\n",
    "\n",
    "    def split(self, config={}, dataframe=None):\n",
    "        \n",
    "        train, val = train_test_split(dataframe, test_size = 0.2, random_state = 32)\n",
    "\n",
    "        return train, val\n",
    "\n",
    "    def evaluate(self, data=[], model={}, config={}):\n",
    "        model = model.trained_model\n",
    "        print (\"Evaluation evaluate triggered\")\n",
    "        val = data.drop('purchase', axis=1)\n",
    "        y_pred = model.predict(val)\n",
    "        y_actual = data['purchase']\n",
    "        \n",
    "        y_pred_proba = model.predict_proba(val)[:,1]\n",
    "       \n",
    "        accuracy = metrics.accuracy_score(y_actual, y_pred, normalize=True, sample_weight=None)\n",
    "        recall = metrics.recall_score(y_actual, y_pred, labels=None, pos_label=1, average='binary', sample_weight=None)\n",
    "        precision = metrics.precision_score(y_actual, y_pred, labels=None, pos_label=1, average='binary', sample_weight=None)\n",
    "        \n",
    "        val_fpr, val_tpr, _ = roc_curve(y_actual, y_pred_proba)\n",
    "        roc_auc = auc(val_fpr, val_tpr)\n",
    "\n",
    "        metric = [{\"name\": \"Accuracy\", \"value\": accuracy, \"valueType\": \"double\"},\n",
    "                  {\"name\": \"Recall\", \"value\": recall, \"valueType\": \"double\"},\n",
    "                  {\"name\": \"Precision\", \"value\": precision, \"valueType\": \"double\"}]\n",
    "        \n",
    "        print(metric)\n",
    "        return metric"
   ]
  },
  {
   "cell_type": "markdown",
   "metadata": {},
   "source": [
    "---"
   ]
  },
  {
   "cell_type": "markdown",
   "metadata": {},
   "source": [
    "#### **Data Saver File**\n",
    "Implement the `save` function for saving your prediction. Scoring output will be added below this cell."
   ]
  },
  {
   "cell_type": "code",
   "execution_count": 26,
   "metadata": {
    "id": "datasaver.py",
    "tags": [
     "datasaver.py"
    ]
   },
   "outputs": [
    {
     "name": "stdout",
     "output_type": "stream",
     "text": [
      "Overwriting /home/asruser/my-workspace/.recipes/recipe-ptj6oMLya/recipe/datasaver.py\n"
     ]
    }
   ],
   "source": [
    "from .utils import get_client_context\n",
    "from platform_sdk.models import Dataset\n",
    "from platform_sdk.dataset_writer import DatasetWriter\n",
    "\n",
    "def save(config_properties, prediction):\n",
    "  print(\"Datasaver Start\")\n",
    "\n",
    "  client_context = get_client_context(config_properties)\n",
    "  dataset = Dataset(client_context).get_by_id(config_properties['scoringResultsDataSetId'])\n",
    "  dataset_writer = DatasetWriter(client_context, dataset)\n",
    "  dataset_writer.write(prediction, file_format='json')\n",
    "\n",
    "  print(\"Datasaver Finish\")\n",
    "  print(prediction)\n"
   ]
  }
 ],
 "metadata": {
  "elementId": "fa3OjLvEo",
  "engine_name": "vangeluwCarInsurancePropensity",
  "isScoringRun": true,
  "kernelspec": {
   "display_name": "Python 3",
   "language": "python",
   "name": "python3"
  },
  "language_info": {
   "codemirror_mode": {
    "name": "ipython",
    "version": 3
   },
   "file_extension": ".py",
   "mimetype": "text/x-python",
   "name": "python",
   "nbconvert_exporter": "python",
   "pygments_lexer": "ipython3",
   "version": "3.6.7"
  },
  "last_created_recipe": "https://platform.adobe.com/ml/recipes/9a5ebf62-8383-4641-85b9-c5565ea3e710",
  "notebook_type": "builder"
 },
 "nbformat": 4,
 "nbformat_minor": 4
}
